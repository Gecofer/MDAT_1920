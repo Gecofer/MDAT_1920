{
 "cells": [
  {
   "cell_type": "markdown",
   "metadata": {},
   "source": [
    "https://stackabuse.com/gradient-boosting-classifiers-in-python-with-scikit-learn/\n",
    "\n",
    "https://relopezbriega.github.io/blog/2017/06/10/boosting-en-machine-learning-con-python/"
   ]
  },
  {
   "cell_type": "markdown",
   "metadata": {},
   "source": [
    "# Gradient Boosting"
   ]
  },
  {
   "cell_type": "code",
   "execution_count": 1,
   "metadata": {},
   "outputs": [],
   "source": [
    "import pandas as pd\n",
    "import numpy as np\n",
    "import matplotlib.pyplot as plt\n",
    "from sklearn.preprocessing import MinMaxScaler\n",
    "from sklearn.model_selection import train_test_split\n",
    "from sklearn.metrics import classification_report, confusion_matrix\n",
    "from sklearn.ensemble import GradientBoostingClassifier"
   ]
  },
  {
   "cell_type": "markdown",
   "metadata": {},
   "source": [
    "**Importar los tres conjuntos de datos ya depurados**"
   ]
  },
  {
   "cell_type": "code",
   "execution_count": 2,
   "metadata": {},
   "outputs": [],
   "source": [
    "train_data = pd.read_excel('./datosPractica/Datos_Train80.xlsx')\n",
    "val_data = pd.read_excel('./datosPractica/Datos_Val20.xlsx')\n",
    "eval_data = pd.read_excel('./datosPractica/Datos_Eval.xlsx')"
   ]
  },
  {
   "cell_type": "code",
   "execution_count": 3,
   "metadata": {
    "scrolled": true
   },
   "outputs": [
    {
     "data": {
      "text/html": [
       "<div>\n",
       "<style scoped>\n",
       "    .dataframe tbody tr th:only-of-type {\n",
       "        vertical-align: middle;\n",
       "    }\n",
       "\n",
       "    .dataframe tbody tr th {\n",
       "        vertical-align: top;\n",
       "    }\n",
       "\n",
       "    .dataframe thead th {\n",
       "        text-align: right;\n",
       "    }\n",
       "</style>\n",
       "<table border=\"1\" class=\"dataframe\">\n",
       "  <thead>\n",
       "    <tr style=\"text-align: right;\">\n",
       "      <th></th>\n",
       "      <th>sid</th>\n",
       "      <th>hour</th>\n",
       "      <th>termicSensation_origin</th>\n",
       "      <th>termicSensation_destination</th>\n",
       "      <th>transport_mode</th>\n",
       "      <th>distance</th>\n",
       "      <th>price</th>\n",
       "      <th>eta</th>\n",
       "      <th>min_distance</th>\n",
       "      <th>min_price</th>\n",
       "      <th>min_eta</th>\n",
       "      <th>binaryTarget</th>\n",
       "      <th>weekday_number</th>\n",
       "      <th>hora_punta</th>\n",
       "      <th>llovizna</th>\n",
       "      <th>is_train</th>\n",
       "    </tr>\n",
       "  </thead>\n",
       "  <tbody>\n",
       "    <tr>\n",
       "      <th>1</th>\n",
       "      <td>1000014</td>\n",
       "      <td>17</td>\n",
       "      <td>49.65</td>\n",
       "      <td>49.65</td>\n",
       "      <td>6</td>\n",
       "      <td>6158</td>\n",
       "      <td>0</td>\n",
       "      <td>1857</td>\n",
       "      <td>5736</td>\n",
       "      <td>0</td>\n",
       "      <td>1454</td>\n",
       "      <td>0</td>\n",
       "      <td>0</td>\n",
       "      <td>1</td>\n",
       "      <td>0</td>\n",
       "      <td>True</td>\n",
       "    </tr>\n",
       "    <tr>\n",
       "      <th>2</th>\n",
       "      <td>1000063</td>\n",
       "      <td>15</td>\n",
       "      <td>58.75</td>\n",
       "      <td>58.92</td>\n",
       "      <td>1</td>\n",
       "      <td>6644</td>\n",
       "      <td>200</td>\n",
       "      <td>2988</td>\n",
       "      <td>6404</td>\n",
       "      <td>0</td>\n",
       "      <td>1362</td>\n",
       "      <td>1</td>\n",
       "      <td>0</td>\n",
       "      <td>0</td>\n",
       "      <td>0</td>\n",
       "      <td>True</td>\n",
       "    </tr>\n",
       "    <tr>\n",
       "      <th>3</th>\n",
       "      <td>1000063</td>\n",
       "      <td>15</td>\n",
       "      <td>58.75</td>\n",
       "      <td>58.92</td>\n",
       "      <td>3</td>\n",
       "      <td>6663</td>\n",
       "      <td>0</td>\n",
       "      <td>1362</td>\n",
       "      <td>6404</td>\n",
       "      <td>0</td>\n",
       "      <td>1362</td>\n",
       "      <td>0</td>\n",
       "      <td>0</td>\n",
       "      <td>0</td>\n",
       "      <td>0</td>\n",
       "      <td>True</td>\n",
       "    </tr>\n",
       "    <tr>\n",
       "      <th>4</th>\n",
       "      <td>1000068</td>\n",
       "      <td>12</td>\n",
       "      <td>53.62</td>\n",
       "      <td>53.54</td>\n",
       "      <td>1</td>\n",
       "      <td>9842</td>\n",
       "      <td>200</td>\n",
       "      <td>3037</td>\n",
       "      <td>6614</td>\n",
       "      <td>0</td>\n",
       "      <td>877</td>\n",
       "      <td>0</td>\n",
       "      <td>0</td>\n",
       "      <td>0</td>\n",
       "      <td>0</td>\n",
       "      <td>True</td>\n",
       "    </tr>\n",
       "    <tr>\n",
       "      <th>5</th>\n",
       "      <td>1000068</td>\n",
       "      <td>12</td>\n",
       "      <td>53.62</td>\n",
       "      <td>53.54</td>\n",
       "      <td>3</td>\n",
       "      <td>8496</td>\n",
       "      <td>0</td>\n",
       "      <td>877</td>\n",
       "      <td>6614</td>\n",
       "      <td>0</td>\n",
       "      <td>877</td>\n",
       "      <td>1</td>\n",
       "      <td>0</td>\n",
       "      <td>0</td>\n",
       "      <td>0</td>\n",
       "      <td>True</td>\n",
       "    </tr>\n",
       "  </tbody>\n",
       "</table>\n",
       "</div>"
      ],
      "text/plain": [
       "       sid  hour  termicSensation_origin  termicSensation_destination  \\\n",
       "1  1000014    17                   49.65                        49.65   \n",
       "2  1000063    15                   58.75                        58.92   \n",
       "3  1000063    15                   58.75                        58.92   \n",
       "4  1000068    12                   53.62                        53.54   \n",
       "5  1000068    12                   53.62                        53.54   \n",
       "\n",
       "   transport_mode  distance  price   eta  min_distance  min_price  min_eta  \\\n",
       "1               6      6158      0  1857          5736          0     1454   \n",
       "2               1      6644    200  2988          6404          0     1362   \n",
       "3               3      6663      0  1362          6404          0     1362   \n",
       "4               1      9842    200  3037          6614          0      877   \n",
       "5               3      8496      0   877          6614          0      877   \n",
       "\n",
       "   binaryTarget  weekday_number  hora_punta  llovizna  is_train  \n",
       "1             0               0           1         0      True  \n",
       "2             1               0           0         0      True  \n",
       "3             0               0           0         0      True  \n",
       "4             0               0           0         0      True  \n",
       "5             1               0           0         0      True  "
      ]
     },
     "execution_count": 3,
     "metadata": {},
     "output_type": "execute_result"
    }
   ],
   "source": [
    "train_data.head()"
   ]
  },
  {
   "cell_type": "markdown",
   "metadata": {},
   "source": [
    "**Eliminar columnas añadidas de manera automática**"
   ]
  },
  {
   "cell_type": "markdown",
   "metadata": {},
   "source": [
    "Al cargar los datos, vemos como se nos mete una columna identificadora `Unnamed: 0`, que no estaba en nuestro dataset depurado. No obstante, al haberlo guardado como Excel, automáticamente se ha generado. Por otro lado, para la realización de la partición de train y validación, se creó una columna que discriminaba observaciones de un conjunto train a otro de validación (`is_train`). Además, es necesario volver a eliminar la variable identificadora `sid`, puesto que se ha dejado en la exportación de los ficheros para tener la localización de cada observación. "
   ]
  },
  {
   "cell_type": "code",
   "execution_count": 5,
   "metadata": {},
   "outputs": [],
   "source": [
    "# Eliminar columna \"Unnamed: 0\"\n",
    "# train_data.drop(labels=\"Unnamed: 0\", axis=1, inplace=True)\n",
    "# val_data.drop(labels=\"Unnamed: 0\", axis=1, inplace=True)\n",
    "# eval_data.drop(labels=\"Unnamed: 0\", axis=1, inplace=True)"
   ]
  },
  {
   "cell_type": "code",
   "execution_count": 4,
   "metadata": {},
   "outputs": [],
   "source": [
    "# Eliminar columna \"is_train\"\n",
    "train_data.drop(labels=\"is_train\", axis=1, inplace=True)\n",
    "val_data.drop(labels=\"is_train\", axis=1, inplace=True)"
   ]
  },
  {
   "cell_type": "code",
   "execution_count": 5,
   "metadata": {},
   "outputs": [],
   "source": [
    "# Eliminar columna \"sid\"\n",
    "train_data.drop(labels=\"sid\", axis=1, inplace=True)\n",
    "val_data.drop(labels=\"sid\", axis=1, inplace=True)\n",
    "eval_data.drop(labels=\"sid\", axis=1, inplace=True)"
   ]
  },
  {
   "cell_type": "markdown",
   "metadata": {},
   "source": [
    "**Separar los conjuntos de datos de la etiqueta o variable target**"
   ]
  },
  {
   "cell_type": "code",
   "execution_count": 6,
   "metadata": {},
   "outputs": [],
   "source": [
    "# Cogemos la columna \"binaryTarget\"\n",
    "y_train = train_data[\"binaryTarget\"]\n",
    "y_val = val_data[\"binaryTarget\"]\n",
    "\n",
    "# Eliminamos la columna \"binaryTarget\"\n",
    "X_train = train_data.drop(labels=\"binaryTarget\", axis=1, inplace=True)\n",
    "X_val = val_data.drop(labels=\"binaryTarget\", axis=1, inplace=True)\n",
    "\n",
    "X_train = train_data\n",
    "X_val = val_data"
   ]
  },
  {
   "cell_type": "code",
   "execution_count": 7,
   "metadata": {},
   "outputs": [
    {
     "data": {
      "text/plain": [
       "(278530, 13)"
      ]
     },
     "execution_count": 7,
     "metadata": {},
     "output_type": "execute_result"
    }
   ],
   "source": [
    "X_train.shape"
   ]
  },
  {
   "cell_type": "code",
   "execution_count": 8,
   "metadata": {},
   "outputs": [
    {
     "data": {
      "text/html": [
       "<div>\n",
       "<style scoped>\n",
       "    .dataframe tbody tr th:only-of-type {\n",
       "        vertical-align: middle;\n",
       "    }\n",
       "\n",
       "    .dataframe tbody tr th {\n",
       "        vertical-align: top;\n",
       "    }\n",
       "\n",
       "    .dataframe thead th {\n",
       "        text-align: right;\n",
       "    }\n",
       "</style>\n",
       "<table border=\"1\" class=\"dataframe\">\n",
       "  <thead>\n",
       "    <tr style=\"text-align: right;\">\n",
       "      <th></th>\n",
       "      <th>hour</th>\n",
       "      <th>termicSensation_origin</th>\n",
       "      <th>termicSensation_destination</th>\n",
       "      <th>transport_mode</th>\n",
       "      <th>distance</th>\n",
       "      <th>price</th>\n",
       "      <th>eta</th>\n",
       "      <th>min_distance</th>\n",
       "      <th>min_price</th>\n",
       "      <th>min_eta</th>\n",
       "      <th>weekday_number</th>\n",
       "      <th>hora_punta</th>\n",
       "      <th>llovizna</th>\n",
       "    </tr>\n",
       "  </thead>\n",
       "  <tbody>\n",
       "    <tr>\n",
       "      <th>1</th>\n",
       "      <td>17</td>\n",
       "      <td>49.65</td>\n",
       "      <td>49.65</td>\n",
       "      <td>6</td>\n",
       "      <td>6158</td>\n",
       "      <td>0</td>\n",
       "      <td>1857</td>\n",
       "      <td>5736</td>\n",
       "      <td>0</td>\n",
       "      <td>1454</td>\n",
       "      <td>0</td>\n",
       "      <td>1</td>\n",
       "      <td>0</td>\n",
       "    </tr>\n",
       "    <tr>\n",
       "      <th>2</th>\n",
       "      <td>15</td>\n",
       "      <td>58.75</td>\n",
       "      <td>58.92</td>\n",
       "      <td>1</td>\n",
       "      <td>6644</td>\n",
       "      <td>200</td>\n",
       "      <td>2988</td>\n",
       "      <td>6404</td>\n",
       "      <td>0</td>\n",
       "      <td>1362</td>\n",
       "      <td>0</td>\n",
       "      <td>0</td>\n",
       "      <td>0</td>\n",
       "    </tr>\n",
       "    <tr>\n",
       "      <th>3</th>\n",
       "      <td>15</td>\n",
       "      <td>58.75</td>\n",
       "      <td>58.92</td>\n",
       "      <td>3</td>\n",
       "      <td>6663</td>\n",
       "      <td>0</td>\n",
       "      <td>1362</td>\n",
       "      <td>6404</td>\n",
       "      <td>0</td>\n",
       "      <td>1362</td>\n",
       "      <td>0</td>\n",
       "      <td>0</td>\n",
       "      <td>0</td>\n",
       "    </tr>\n",
       "    <tr>\n",
       "      <th>4</th>\n",
       "      <td>12</td>\n",
       "      <td>53.62</td>\n",
       "      <td>53.54</td>\n",
       "      <td>1</td>\n",
       "      <td>9842</td>\n",
       "      <td>200</td>\n",
       "      <td>3037</td>\n",
       "      <td>6614</td>\n",
       "      <td>0</td>\n",
       "      <td>877</td>\n",
       "      <td>0</td>\n",
       "      <td>0</td>\n",
       "      <td>0</td>\n",
       "    </tr>\n",
       "    <tr>\n",
       "      <th>5</th>\n",
       "      <td>12</td>\n",
       "      <td>53.62</td>\n",
       "      <td>53.54</td>\n",
       "      <td>3</td>\n",
       "      <td>8496</td>\n",
       "      <td>0</td>\n",
       "      <td>877</td>\n",
       "      <td>6614</td>\n",
       "      <td>0</td>\n",
       "      <td>877</td>\n",
       "      <td>0</td>\n",
       "      <td>0</td>\n",
       "      <td>0</td>\n",
       "    </tr>\n",
       "  </tbody>\n",
       "</table>\n",
       "</div>"
      ],
      "text/plain": [
       "   hour  termicSensation_origin  termicSensation_destination  transport_mode  \\\n",
       "1    17                   49.65                        49.65               6   \n",
       "2    15                   58.75                        58.92               1   \n",
       "3    15                   58.75                        58.92               3   \n",
       "4    12                   53.62                        53.54               1   \n",
       "5    12                   53.62                        53.54               3   \n",
       "\n",
       "   distance  price   eta  min_distance  min_price  min_eta  weekday_number  \\\n",
       "1      6158      0  1857          5736          0     1454               0   \n",
       "2      6644    200  2988          6404          0     1362               0   \n",
       "3      6663      0  1362          6404          0     1362               0   \n",
       "4      9842    200  3037          6614          0      877               0   \n",
       "5      8496      0   877          6614          0      877               0   \n",
       "\n",
       "   hora_punta  llovizna  \n",
       "1           1         0  \n",
       "2           0         0  \n",
       "3           0         0  \n",
       "4           0         0  \n",
       "5           0         0  "
      ]
     },
     "execution_count": 8,
     "metadata": {},
     "output_type": "execute_result"
    }
   ],
   "source": [
    "X_train.head()"
   ]
  },
  {
   "cell_type": "markdown",
   "metadata": {},
   "source": [
    "**Ajustamos un modelo _GradientBoostingClassifier_**\n",
    "\n",
    "Árboles de decisión con Gradient boosting es uno de los modelos más poderosos y más utilizados para problemas de aprendizaje supervisado. Su principal inconveniente es que requieren un ajuste cuidadoso de los parámetros y puede requerir mucho tiempo de entrenamiento. Al igual que otros modelos basados en árboles, el algoritmo funciona y escala bien con una mezcla de características binarias y continuas. Asimismo, también arrastra el problema de los árboles de decisión en los casos en que los datos están dispersos y tienen una alta dimensionalidad. \n",
    "\n",
    "Los principales parámetros de los modelos de árboles de decisión con Gradient boosting son el número de árboles (`n_estimators`) y la tasa de aprendizaje (`learning_rate`), que controla el grado en que a cada árbol se le permite corregir los errores de los árboles anteriores. Estos dos parámetros están altamente interconectados en el sentido de que si bajamos el valor en la tasa de aprendizaje vamos a necesitar un número mayor de árboles para construir un modelo de complejidad similar.\n",
    "\n",
    "- `learning_rate`: learning rate shrinks the contribution of each tree by learning_rate. There is a trade-off between learning_rate and n_estimators.\n",
    "- `n_estimators`: The number of boosting stages to perform. Gradient boosting is fairly robust to over-fitting so a large number usually results in better performance.\n",
    "- `max_depth`: maximum depth of the individual regression estimators. The maximum depth limits the number of nodes in the tree. Tune this parameter for best performance; the best value depends on the interaction of the input variables.\n",
    "- `max_features`: The number of features to consider when looking for the best split. Choosing max_features < n_features leads to a reduction of variance and an increase in bias.\n",
    "- `validation_fraction`: The proportion of training data to set aside as validation set for early stopping. Must be between 0 and 1.\n",
    "- `random_state`: If int, random_state is the seed used by the random number generator; If RandomState instance, random_state is the random number generator; If None, the random number generator is the RandomState instance used by np.random.\n",
    "\n",
    "\n",
    "https://scikit-learn.org/stable/modules/generated/sklearn.ensemble.GradientBoostingClassifier.html"
   ]
  },
  {
   "cell_type": "markdown",
   "metadata": {},
   "source": [
    "> No se nos permite meter la validación nosotros, así que deberíamos de meter, un porcentaje de validación."
   ]
  },
  {
   "cell_type": "code",
   "execution_count": 9,
   "metadata": {},
   "outputs": [
    {
     "name": "stdout",
     "output_type": "stream",
     "text": [
      "Learning rate:  0.05\n",
      "Accuracy score (training): 0.837\n",
      "Accuracy score (validation): 0.830\n",
      "Learning rate:  0.075\n",
      "Accuracy score (training): 0.839\n",
      "Accuracy score (validation): 0.830\n",
      "Learning rate:  0.1\n",
      "Accuracy score (training): 0.840\n",
      "Accuracy score (validation): 0.830\n",
      "Learning rate:  0.25\n",
      "Accuracy score (training): 0.848\n",
      "Accuracy score (validation): 0.830\n",
      "Learning rate:  0.5\n",
      "Accuracy score (training): 0.856\n",
      "Accuracy score (validation): 0.825\n",
      "Learning rate:  0.75\n",
      "Accuracy score (training): 0.860\n",
      "Accuracy score (validation): 0.821\n",
      "Learning rate:  1\n",
      "Accuracy score (training): 0.862\n",
      "Accuracy score (validation): 0.819\n"
     ]
    }
   ],
   "source": [
    "lr_list = [0.05, 0.075, 0.1, 0.25, 0.5, 0.75, 1]\n",
    "\n",
    "for learning_rate in lr_list:\n",
    "    # subir n_estimators a 750 sobreajusta\n",
    "    # n_estimators=450 - max_depth=4\n",
    "    gb_clf = GradientBoostingClassifier(n_estimators=450, learning_rate=learning_rate, \n",
    "                                        max_depth=4, validation_fraction=0.1, random_state=9)\n",
    "    gb_clf.fit(X_train, y_train)\n",
    "\n",
    "    print(\"Learning rate: \", learning_rate)\n",
    "    print(\"Accuracy score (training): {0:.3f}\".format(gb_clf.score(X_train, y_train)))\n",
    "    print(\"Accuracy score (validation): {0:.3f}\".format(gb_clf.score(X_val, y_val)))"
   ]
  },
  {
   "cell_type": "markdown",
   "metadata": {},
   "source": [
    "Vemos cuál es el rendimiento para diferentes tasas de aprendizaje, y cogemos el mejor y el que menos sobreajuste de acuerdo a los dos conjuntos de datos que estamos probando. Y calculamos el accuracy, y el loss."
   ]
  },
  {
   "cell_type": "code",
   "execution_count": 10,
   "metadata": {},
   "outputs": [
    {
     "data": {
      "text/plain": [
       "GradientBoostingClassifier(criterion='friedman_mse', init=None,\n",
       "              learning_rate=0.25, loss='deviance', max_depth=4,\n",
       "              max_features=None, max_leaf_nodes=None,\n",
       "              min_impurity_decrease=0.0, min_impurity_split=None,\n",
       "              min_samples_leaf=1, min_samples_split=2,\n",
       "              min_weight_fraction_leaf=0.0, n_estimators=450,\n",
       "              n_iter_no_change=None, presort='auto', random_state=9,\n",
       "              subsample=1.0, tol=0.0001, validation_fraction=0.1,\n",
       "              verbose=0, warm_start=False)"
      ]
     },
     "execution_count": 10,
     "metadata": {},
     "output_type": "execute_result"
    }
   ],
   "source": [
    "gb_clf2 = GradientBoostingClassifier(n_estimators=450, learning_rate=0.25, \n",
    "                                     max_depth=4, validation_fraction=0.1, random_state=9)\n",
    "gb_clf2.fit(X_train, y_train)"
   ]
  },
  {
   "cell_type": "code",
   "execution_count": 11,
   "metadata": {},
   "outputs": [
    {
     "name": "stdout",
     "output_type": "stream",
     "text": [
      "Accuracy score (validation): 0.830\n"
     ]
    }
   ],
   "source": [
    "print(\"Accuracy score (validation): {0:.3f}\".format(gb_clf2.score(X_val, y_val)))"
   ]
  },
  {
   "cell_type": "code",
   "execution_count": 12,
   "metadata": {},
   "outputs": [
    {
     "data": {
      "text/plain": [
       "array([1, 0, 0, ..., 0, 0, 1])"
      ]
     },
     "execution_count": 12,
     "metadata": {},
     "output_type": "execute_result"
    }
   ],
   "source": [
    "predictions = gb_clf2.predict(eval_data)\n",
    "predictions"
   ]
  },
  {
   "cell_type": "code",
   "execution_count": 40,
   "metadata": {},
   "outputs": [
    {
     "name": "stdout",
     "output_type": "stream",
     "text": [
      "0.8299276776489496\n",
      "0.8266416025714614\n"
     ]
    }
   ],
   "source": [
    "print(gb_clf2.score(X_val, y_val))\n",
    "import sklearn.metrics\n",
    "print(sklearn.metrics.accuracy_score(y_val, predictions, normalize=True, sample_weight=None))"
   ]
  },
  {
   "cell_type": "code",
   "execution_count": 13,
   "metadata": {},
   "outputs": [
    {
     "data": {
      "text/plain": [
       "Counter({1: 26255, 0: 150535})"
      ]
     },
     "execution_count": 13,
     "metadata": {},
     "output_type": "execute_result"
    }
   ],
   "source": [
    "import collections, numpy\n",
    "\n",
    "collections.Counter(predictions)"
   ]
  },
  {
   "cell_type": "code",
   "execution_count": 14,
   "metadata": {},
   "outputs": [
    {
     "data": {
      "image/png": "[encoded data removed]",
      "text/plain": [
       "<Figure size 432x288 with 1 Axes>"
      ]
     },
     "metadata": {
      "needs_background": "light"
     },
     "output_type": "display_data"
    }
   ],
   "source": [
    "# Graficando la importancia de cada atributo\n",
    "n_atributos = train_data.shape[1]\n",
    "plt.barh(range(n_atributos), gb_clf2.feature_importances_, align='center')\n",
    "plt.yticks(np.arange(n_atributos), train_data.columns)\n",
    "plt.xlabel(\"Importancia de atributo\")\n",
    "plt.ylabel(\"Atributo\")\n",
    "plt.show();"
   ]
  },
  {
   "cell_type": "code",
   "execution_count": 33,
   "metadata": {},
   "outputs": [
    {
     "name": "stdout",
     "output_type": "stream",
     "text": [
      "Classification Report\n",
      "              precision    recall  f1-score   support\n",
      "\n",
      "           0       0.86      0.94      0.90     54679\n",
      "           1       0.66      0.43      0.52     15009\n",
      "\n",
      "   micro avg       0.83      0.83      0.83     69688\n",
      "   macro avg       0.76      0.68      0.71     69688\n",
      "weighted avg       0.82      0.83      0.82     69688\n",
      "\n",
      "\n",
      "Confusion Matrix:\n"
     ]
    },
    {
     "data": {
      "text/html": [
       "<div>\n",
       "<style scoped>\n",
       "    .dataframe tbody tr th:only-of-type {\n",
       "        vertical-align: middle;\n",
       "    }\n",
       "\n",
       "    .dataframe tbody tr th {\n",
       "        vertical-align: top;\n",
       "    }\n",
       "\n",
       "    .dataframe thead th {\n",
       "        text-align: right;\n",
       "    }\n",
       "</style>\n",
       "<table border=\"1\" class=\"dataframe\">\n",
       "  <thead>\n",
       "    <tr style=\"text-align: right;\">\n",
       "      <th></th>\n",
       "      <th>0</th>\n",
       "      <th>1</th>\n",
       "    </tr>\n",
       "  </thead>\n",
       "  <tbody>\n",
       "    <tr>\n",
       "      <th>0</th>\n",
       "      <td>51428</td>\n",
       "      <td>3251</td>\n",
       "    </tr>\n",
       "    <tr>\n",
       "      <th>1</th>\n",
       "      <td>8601</td>\n",
       "      <td>6408</td>\n",
       "    </tr>\n",
       "  </tbody>\n",
       "</table>\n",
       "</div>"
      ],
      "text/plain": [
       "       0     1\n",
       "0  51428  3251\n",
       "1   8601  6408"
      ]
     },
     "execution_count": 33,
     "metadata": {},
     "output_type": "execute_result"
    }
   ],
   "source": [
    "# Para ver la matriz de confusión\n",
    "\n",
    "predictions = gb_clf2.predict(X_val)\n",
    "\n",
    "print(\"Classification Report\")\n",
    "print(classification_report(y_val, predictions))\n",
    "print()\n",
    "print(\"Confusion Matrix:\")\n",
    "pd.DataFrame(confusion_matrix(y_val, predictions))"
   ]
  },
  {
   "cell_type": "markdown",
   "metadata": {},
   "source": [
    "--------------------------"
   ]
  },
  {
   "cell_type": "markdown",
   "metadata": {},
   "source": [
    "# XGBoost"
   ]
  },
  {
   "cell_type": "code",
   "execution_count": 20,
   "metadata": {},
   "outputs": [],
   "source": [
    "#!pip install xgboost\n",
    "#!pip install xgboost==0.71\n",
    "\n",
    "from xgboost import XGBClassifier\n",
    "from sklearn.preprocessing import LabelEncoder\n",
    "from sklearn.preprocessing import OneHotEncoder"
   ]
  },
  {
   "cell_type": "markdown",
   "metadata": {},
   "source": [
    "XGBoost significa eXtreme Gradient Boosting. Es el algoritmo que ha estado dominando recientemente los problemas Machine learning y las competiciones de Kaggle con datos estructurados o tabulares. XGBoost es una implementación de árboles de decisión con Gradient boosting diseñada para minimizar la velocidad de ejecución y maximizar el rendimiento.\n",
    "\n",
    "Internamente, XGBoost representa todos los problemas como un caso de modelado predictivo de regresión que sólo toma valores numéricos como entrada. Si nuestros datos están en un formato diferente, primero vamos a tener que transformarlos para poder hacer uso de todo el poder de esta librería. El hecho de trabajar sólo con datos numéricos es lo que hace que esta librería sea tan eficiente.\n",
    "\n",
    "> Imposible hacer el OneHotEncoder, el kernel de mi ordenador se muere, porque hace como uso de la idea de regresión logística, por lo que puede que no hayemos la eficacia con este algoritmo, que a priori es mejor."
   ]
  },
  {
   "cell_type": "code",
   "execution_count": 21,
   "metadata": {},
   "outputs": [
    {
     "name": "stdout",
     "output_type": "stream",
     "text": [
      "Learning rate:  0.05\n",
      "Accuracy score (training): 0.835\n",
      "Accuracy score (validation): 0.828\n",
      "Learning rate:  0.075\n",
      "Accuracy score (training): 0.837\n",
      "Accuracy score (validation): 0.829\n",
      "Learning rate:  0.1\n",
      "Accuracy score (training): 0.839\n",
      "Accuracy score (validation): 0.830\n",
      "Learning rate:  0.25\n",
      "Accuracy score (training): 0.844\n",
      "Accuracy score (validation): 0.831\n",
      "Learning rate:  0.5\n",
      "Accuracy score (training): 0.852\n",
      "Accuracy score (validation): 0.828\n",
      "Learning rate:  0.75\n",
      "Accuracy score (training): 0.857\n",
      "Accuracy score (validation): 0.825\n",
      "Learning rate:  1\n",
      "Accuracy score (training): 0.859\n",
      "Accuracy score (validation): 0.821\n"
     ]
    }
   ],
   "source": [
    "lr_list = [0.05, 0.075, 0.1, 0.25, 0.5, 0.75, 1]\n",
    "\n",
    "for learning_rate in lr_list:\n",
    "    xgb_clf = XGBClassifier(learning_rate=learning_rate, n_estimators=450, max_depth=4, seed=9)\n",
    "    xgb_clf.fit(X_train, y_train)\n",
    "\n",
    "    print(\"Learning rate: \", learning_rate)\n",
    "    print(\"Accuracy score (training): {0:.3f}\".format(xgb_clf.score(X_train, y_train)))\n",
    "    print(\"Accuracy score (validation): {0:.3f}\".format(xgb_clf.score(X_val, y_val)))"
   ]
  },
  {
   "cell_type": "code",
   "execution_count": 22,
   "metadata": {},
   "outputs": [
    {
     "data": {
      "text/plain": [
       "XGBClassifier(base_score=0.5, booster='gbtree', colsample_bylevel=1,\n",
       "       colsample_bytree=1, gamma=0, learning_rate=0.7, max_delta_step=0,\n",
       "       max_depth=3, min_child_weight=1, missing=None, n_estimators=850,\n",
       "       n_jobs=1, nthread=None, objective='binary:logistic', random_state=0,\n",
       "       reg_alpha=0, reg_lambda=1, scale_pos_weight=1, seed=None,\n",
       "       silent=True, subsample=1)"
      ]
     },
     "execution_count": 22,
     "metadata": {},
     "output_type": "execute_result"
    }
   ],
   "source": [
    "#xgb_clf = XGBClassifier(learning_rate=0.7, n_estimators=800, max_depth=5)\n",
    "xgb_clf = XGBClassifier(learning_rate=0.7, n_estimators=850, max_depth=3)\n",
    "xgb_clf.fit(X_train, y_train)"
   ]
  },
  {
   "cell_type": "code",
   "execution_count": 23,
   "metadata": {},
   "outputs": [
    {
     "name": "stdout",
     "output_type": "stream",
     "text": [
      "Accuracy score (training): 0.851\n",
      "Accuracy score (validation): 0.827\n"
     ]
    }
   ],
   "source": [
    "print(\"Accuracy score (training): {0:.3f}\".format(xgb_clf.score(X_train, y_train)))\n",
    "print(\"Accuracy score (validation): {0:.3f}\".format(xgb_clf.score(X_val, y_val)))"
   ]
  },
  {
   "cell_type": "code",
   "execution_count": 24,
   "metadata": {},
   "outputs": [],
   "source": [
    "# Realizo las predicciones\n",
    "y_pred = xgb_clf.predict(eval_data)\n",
    "predicciones = [round(value) for value in y_pred]"
   ]
  },
  {
   "cell_type": "code",
   "execution_count": 25,
   "metadata": {},
   "outputs": [
    {
     "data": {
      "text/plain": [
       "Counter({1: 26863, 0: 149927})"
      ]
     },
     "execution_count": 25,
     "metadata": {},
     "output_type": "execute_result"
    }
   ],
   "source": [
    "import collections, numpy\n",
    "\n",
    "collections.Counter(predicciones)"
   ]
  },
  {
   "cell_type": "code",
   "execution_count": 34,
   "metadata": {},
   "outputs": [
    {
     "name": "stdout",
     "output_type": "stream",
     "text": [
      "Classification Report\n",
      "              precision    recall  f1-score   support\n",
      "\n",
      "           0       0.86      0.94      0.89     54679\n",
      "           1       0.65      0.43      0.52     15009\n",
      "\n",
      "   micro avg       0.83      0.83      0.83     69688\n",
      "   macro avg       0.75      0.68      0.70     69688\n",
      "weighted avg       0.81      0.83      0.81     69688\n",
      "\n",
      "\n",
      "Confusion Matrix:\n"
     ]
    },
    {
     "data": {
      "text/html": [
       "<div>\n",
       "<style scoped>\n",
       "    .dataframe tbody tr th:only-of-type {\n",
       "        vertical-align: middle;\n",
       "    }\n",
       "\n",
       "    .dataframe tbody tr th {\n",
       "        vertical-align: top;\n",
       "    }\n",
       "\n",
       "    .dataframe thead th {\n",
       "        text-align: right;\n",
       "    }\n",
       "</style>\n",
       "<table border=\"1\" class=\"dataframe\">\n",
       "  <thead>\n",
       "    <tr style=\"text-align: right;\">\n",
       "      <th></th>\n",
       "      <th>0</th>\n",
       "      <th>1</th>\n",
       "    </tr>\n",
       "  </thead>\n",
       "  <tbody>\n",
       "    <tr>\n",
       "      <th>0</th>\n",
       "      <td>51181</td>\n",
       "      <td>3498</td>\n",
       "    </tr>\n",
       "    <tr>\n",
       "      <th>1</th>\n",
       "      <td>8583</td>\n",
       "      <td>6426</td>\n",
       "    </tr>\n",
       "  </tbody>\n",
       "</table>\n",
       "</div>"
      ],
      "text/plain": [
       "       0     1\n",
       "0  51181  3498\n",
       "1   8583  6426"
      ]
     },
     "execution_count": 34,
     "metadata": {},
     "output_type": "execute_result"
    }
   ],
   "source": [
    "# Para ver la matriz de confusión\n",
    "\n",
    "predictions = xgb_clf.predict(X_val)\n",
    "\n",
    "print(\"Classification Report\")\n",
    "print(classification_report(y_val, predictions))\n",
    "print()\n",
    "print(\"Confusion Matrix:\")\n",
    "pd.DataFrame(confusion_matrix(y_val, predictions))"
   ]
  }
 ],
 "metadata": {
  "kernelspec": {
   "display_name": "Python 3",
   "language": "python",
   "name": "python3"
  },
  "language_info": {
   "codemirror_mode": {
    "name": "ipython",
    "version": 3
   },
   "file_extension": ".py",
   "mimetype": "text/x-python",
   "name": "python",
   "nbconvert_exporter": "python",
   "pygments_lexer": "ipython3",
   "version": "3.7.3"
  }
 },
 "nbformat": 4,
 "nbformat_minor": 2
}
