{
 "cells": [
  {
   "cell_type": "markdown",
   "metadata": {},
   "source": [
    "# ÁRBOLES DE CLASIFICACIÓN"
   ]
  },
  {
   "cell_type": "markdown",
   "metadata": {},
   "source": [
    "https://scikit-learn.org/stable/modules/generated/sklearn.tree.DecisionTreeClassifier.html"
   ]
  },
  {
   "cell_type": "code",
   "execution_count": 2,
   "metadata": {},
   "outputs": [],
   "source": [
    "import pandas as pd\n",
    "import numpy as np\n",
    "import matplotlib.pyplot as plt"
   ]
  },
  {
   "cell_type": "code",
   "execution_count": 3,
   "metadata": {},
   "outputs": [],
   "source": [
    "# Total datos entrenamiento\n",
    "data = pd.read_excel('./Datos_Train.xlsx')\n",
    "# Conjunto train 80%\n",
    "#data_train = pd.read_excel('./Datos_Train80.xlsx')\n",
    "# Conjunto evaluación 20%\n",
    "#data_val = pd.read_excel('./Datos_Val20.xlsx')"
   ]
  },
  {
   "cell_type": "code",
   "execution_count": 3,
   "metadata": {},
   "outputs": [
    {
     "data": {
      "text/plain": [
       "sid                              int64\n",
       "hour                             int64\n",
       "termicSensation_origin         float64\n",
       "termicSensation_destination    float64\n",
       "transport_mode                   int64\n",
       "distance                         int64\n",
       "price                            int64\n",
       "eta                              int64\n",
       "min_distance                     int64\n",
       "min_price                        int64\n",
       "min_eta                          int64\n",
       "binaryTarget                     int64\n",
       "weekday_number                   int64\n",
       "hora_punta                       int64\n",
       "llovizna                         int64\n",
       "dtype: object"
      ]
     },
     "execution_count": 3,
     "metadata": {},
     "output_type": "execute_result"
    }
   ],
   "source": [
    "data.dtypes"
   ]
  },
  {
   "cell_type": "markdown",
   "metadata": {},
   "source": [
    "### Convertir variables dummie"
   ]
  },
  {
   "cell_type": "markdown",
   "metadata": {},
   "source": [
    "El algoritmo utilizado trata a todas las variables como continuas. En el caso de variables categóricas binarias esto no es un problema, sin embargo, para variables con más de dos categorías sí. Para solucionar este problema convertimos la variable 'tranport_mode' a sus correspondientes variables dummies"
   ]
  },
  {
   "cell_type": "code",
   "execution_count": 4,
   "metadata": {},
   "outputs": [
    {
     "data": {
      "text/plain": [
       "(348218, 15)"
      ]
     },
     "execution_count": 4,
     "metadata": {},
     "output_type": "execute_result"
    }
   ],
   "source": [
    "data.shape"
   ]
  },
  {
   "cell_type": "code",
   "execution_count": 5,
   "metadata": {},
   "outputs": [],
   "source": [
    "trans_dummies = pd.get_dummies(data['transport_mode'], prefix='trans')"
   ]
  },
  {
   "cell_type": "code",
   "execution_count": 6,
   "metadata": {},
   "outputs": [
    {
     "data": {
      "text/plain": [
       "(348218, 11)"
      ]
     },
     "execution_count": 6,
     "metadata": {},
     "output_type": "execute_result"
    }
   ],
   "source": [
    "trans_dummies.shape"
   ]
  },
  {
   "cell_type": "code",
   "execution_count": 7,
   "metadata": {},
   "outputs": [],
   "source": [
    "data = data.merge(trans_dummies,left_index=True, right_index=True)"
   ]
  },
  {
   "cell_type": "code",
   "execution_count": 8,
   "metadata": {},
   "outputs": [
    {
     "data": {
      "text/plain": [
       "False"
      ]
     },
     "execution_count": 8,
     "metadata": {},
     "output_type": "execute_result"
    }
   ],
   "source": [
    "data.isna().values.any()"
   ]
  },
  {
   "cell_type": "markdown",
   "metadata": {},
   "source": [
    "### Hacer partición Train y Test"
   ]
  },
  {
   "cell_type": "code",
   "execution_count": 9,
   "metadata": {},
   "outputs": [],
   "source": [
    "porcentaje_train = 0.80 \n",
    "data[\"is_train\"] = np.random.uniform(0,1, len(data))<=0.80"
   ]
  },
  {
   "cell_type": "code",
   "execution_count": 10,
   "metadata": {},
   "outputs": [],
   "source": [
    "train, test = data[data[\"is_train\"]==True], data[data[\"is_train\"]==False]"
   ]
  },
  {
   "cell_type": "markdown",
   "metadata": {},
   "source": [
    "### Quedarnos variables predictoras y target"
   ]
  },
  {
   "cell_type": "code",
   "execution_count": 11,
   "metadata": {},
   "outputs": [],
   "source": [
    "colnames = data.columns.values.tolist()\n",
    "predictors = ['hour','termicSensation_origin','termicSensation_destination','distance',\\\n",
    "              'price','eta','min_distance','min_price','min_eta','weekday_number','hora_punta','llovizna',\\\n",
    "              'trans_1','trans_2','trans_3','trans_4','trans_5','trans_6','trans_7','trans_8','trans_9',\\\n",
    "              'trans_10','trans_11']\n",
    "target = ['binaryTarget']"
   ]
  },
  {
   "cell_type": "code",
   "execution_count": 12,
   "metadata": {},
   "outputs": [],
   "source": [
    "from sklearn.tree import DecisionTreeClassifier\n",
    "import sklearn.metrics"
   ]
  },
  {
   "cell_type": "markdown",
   "metadata": {},
   "source": [
    "#class_weight = None (No balancea clases)\n",
    "#criterion = \"entropy\" (Criterio)\n",
    "#max_features = auto -> Cantidad de características a buscar para la mejor división: sqrt(n_features) #Evitar overfitting\n",
    "#max_depth = 10 -> Profundidad máxima (Evitar overfitting)\n",
    "#min_samples_split -> mínimo número observaciones para dividir nodo\n",
    "#min_samples_leaf -> mínimo número hojas por nodo "
   ]
  },
  {
   "cell_type": "code",
   "execution_count": 13,
   "metadata": {},
   "outputs": [
    {
     "data": {
      "text/plain": [
       "DecisionTreeClassifier(class_weight=None, criterion='entropy', max_depth=20,\n",
       "            max_features='auto', max_leaf_nodes=None,\n",
       "            min_impurity_decrease=0.0, min_impurity_split=None,\n",
       "            min_samples_leaf=1, min_samples_split=100,\n",
       "            min_weight_fraction_leaf=0.0, presort=False, random_state=99,\n",
       "            splitter='best')"
      ]
     },
     "execution_count": 13,
     "metadata": {},
     "output_type": "execute_result"
    }
   ],
   "source": [
    "tree = DecisionTreeClassifier(class_weight=None, criterion=\"entropy\", max_depth = 20, max_features = 'auto', min_samples_leaf = 1, min_samples_split=100, random_state=99)\n",
    "tree.fit(train[predictors], train[target])"
   ]
  },
  {
   "cell_type": "code",
   "execution_count": 14,
   "metadata": {},
   "outputs": [],
   "source": [
    "preds = tree.predict(test[predictors]) #Predicciones en tabla validación"
   ]
  },
  {
   "cell_type": "code",
   "execution_count": 15,
   "metadata": {},
   "outputs": [],
   "source": [
    "true_labels = test[target].values.flatten() #Verdaderos valores Tabla validación"
   ]
  },
  {
   "cell_type": "code",
   "execution_count": 16,
   "metadata": {},
   "outputs": [
    {
     "data": {
      "text/html": [
       "<div>\n",
       "<style scoped>\n",
       "    .dataframe tbody tr th:only-of-type {\n",
       "        vertical-align: middle;\n",
       "    }\n",
       "\n",
       "    .dataframe tbody tr th {\n",
       "        vertical-align: top;\n",
       "    }\n",
       "\n",
       "    .dataframe thead th {\n",
       "        text-align: right;\n",
       "    }\n",
       "</style>\n",
       "<table border=\"1\" class=\"dataframe\">\n",
       "  <thead>\n",
       "    <tr style=\"text-align: right;\">\n",
       "      <th>Predictions</th>\n",
       "      <th>0</th>\n",
       "      <th>1</th>\n",
       "    </tr>\n",
       "    <tr>\n",
       "      <th>Actual</th>\n",
       "      <th></th>\n",
       "      <th></th>\n",
       "    </tr>\n",
       "  </thead>\n",
       "  <tbody>\n",
       "    <tr>\n",
       "      <th>0</th>\n",
       "      <td>51315</td>\n",
       "      <td>3272</td>\n",
       "    </tr>\n",
       "    <tr>\n",
       "      <th>1</th>\n",
       "      <td>9174</td>\n",
       "      <td>5793</td>\n",
       "    </tr>\n",
       "  </tbody>\n",
       "</table>\n",
       "</div>"
      ],
      "text/plain": [
       "Predictions      0     1\n",
       "Actual                  \n",
       "0            51315  3272\n",
       "1             9174  5793"
      ]
     },
     "execution_count": 16,
     "metadata": {},
     "output_type": "execute_result"
    }
   ],
   "source": [
    "pd.crosstab(true_labels, preds, rownames=[\"Actual\"], colnames=[\"Predictions\"])"
   ]
  },
  {
   "cell_type": "markdown",
   "metadata": {},
   "source": [
    "### Accuracy"
   ]
  },
  {
   "cell_type": "code",
   "execution_count": 17,
   "metadata": {},
   "outputs": [
    {
     "data": {
      "text/plain": [
       "0.8210598959082152"
      ]
     },
     "execution_count": 17,
     "metadata": {},
     "output_type": "execute_result"
    }
   ],
   "source": [
    "sklearn.metrics.accuracy_score(true_labels, preds, normalize=True, sample_weight=None)"
   ]
  },
  {
   "cell_type": "markdown",
   "metadata": {},
   "source": [
    "## Visualización del árbol de decisión"
   ]
  },
  {
   "cell_type": "markdown",
   "metadata": {},
   "source": [
    "Hacer uno con menos profundidad para poner la imagen"
   ]
  },
  {
   "cell_type": "code",
   "execution_count": 35,
   "metadata": {},
   "outputs": [
    {
     "data": {
      "text/plain": [
       "DecisionTreeClassifier(class_weight=None, criterion='entropy', max_depth=3,\n",
       "            max_features='auto', max_leaf_nodes=None,\n",
       "            min_impurity_decrease=0.0, min_impurity_split=None,\n",
       "            min_samples_leaf=1, min_samples_split=100,\n",
       "            min_weight_fraction_leaf=0.0, presort=False, random_state=99,\n",
       "            splitter='best')"
      ]
     },
     "execution_count": 35,
     "metadata": {},
     "output_type": "execute_result"
    }
   ],
   "source": [
    "tree_img = DecisionTreeClassifier(class_weight=None, criterion=\"entropy\", max_depth = 3, max_features = 'auto', min_samples_leaf = 1, min_samples_split=100, random_state=99)\n",
    "tree_img.fit(train[predictors], train[target])"
   ]
  },
  {
   "cell_type": "code",
   "execution_count": 36,
   "metadata": {},
   "outputs": [],
   "source": [
    "from sklearn.tree import export_graphviz"
   ]
  },
  {
   "cell_type": "code",
   "execution_count": 37,
   "metadata": {},
   "outputs": [],
   "source": [
    "with open(\"./tree_img.dot\", \"w\") as dotfile:\n",
    "    export_graphviz(tree_img, out_file=dotfile, feature_names=predictors)\n",
    "    dotfile.close()"
   ]
  },
  {
   "cell_type": "code",
   "execution_count": 38,
   "metadata": {},
   "outputs": [],
   "source": [
    "import os\n",
    "from graphviz import Source"
   ]
  },
  {
   "cell_type": "code",
   "execution_count": 39,
   "metadata": {},
   "outputs": [
    {
     "data": {
      "text/plain": [
       "'digraph Tree {\\nnode [shape=box] ;\\n0 [label=\"trans_4 <= 0.5\\\\nentropy = 0.747\\\\nsamples = 278273\\\\nvalue = [218994, 59279]\"] ;\\n1 [label=\"trans_3 <= 0.5\\\\nentropy = 0.821\\\\nsamples = 225527\\\\nvalue = [167765, 57762]\"] ;\\n0 -> 1 [labeldistance=2.5, labelangle=45, headlabel=\"True\"] ;\\n2 [label=\"price <= 100.0\\\\nentropy = 0.91\\\\nsamples = 169234\\\\nvalue = [114237, 54997]\"] ;\\n1 -> 2 ;\\n3 [label=\"entropy = 0.644\\\\nsamples = 40601\\\\nvalue = [33942, 6659]\"] ;\\n2 -> 3 ;\\n4 [label=\"entropy = 0.955\\\\nsamples = 128633\\\\nvalue = [80295, 48338]\"] ;\\n2 -> 4 ;\\n5 [label=\"eta <= 4870.5\\\\nentropy = 0.283\\\\nsamples = 56293\\\\nvalue = [53528, 2765]\"] ;\\n1 -> 5 ;\\n6 [label=\"entropy = 0.276\\\\nsamples = 54437\\\\nvalue = [51843, 2594]\"] ;\\n5 -> 6 ;\\n7 [label=\"entropy = 0.444\\\\nsamples = 1856\\\\nvalue = [1685, 171]\"] ;\\n5 -> 7 ;\\n8 [label=\"eta <= 2132.5\\\\nentropy = 0.188\\\\nsamples = 52746\\\\nvalue = [51229, 1517]\"] ;\\n0 -> 8 [labeldistance=2.5, labelangle=-45, headlabel=\"False\"] ;\\n9 [label=\"eta <= 1387.5\\\\nentropy = 0.236\\\\nsamples = 27398\\\\nvalue = [26337, 1061]\"] ;\\n8 -> 9 ;\\n10 [label=\"entropy = 0.267\\\\nsamples = 14991\\\\nvalue = [14310, 681]\"] ;\\n9 -> 10 ;\\n11 [label=\"entropy = 0.198\\\\nsamples = 12407\\\\nvalue = [12027, 380]\"] ;\\n9 -> 11 ;\\n12 [label=\"hour <= 1.5\\\\nentropy = 0.13\\\\nsamples = 25348\\\\nvalue = [24892, 456]\"] ;\\n8 -> 12 ;\\n13 [label=\"entropy = 0.347\\\\nsamples = 246\\\\nvalue = [230, 16]\"] ;\\n12 -> 13 ;\\n14 [label=\"entropy = 0.127\\\\nsamples = 25102\\\\nvalue = [24662, 440]\"] ;\\n12 -> 14 ;\\n}'"
      ]
     },
     "execution_count": 39,
     "metadata": {},
     "output_type": "execute_result"
    }
   ],
   "source": [
    "file = open(\"./tree_img.dot\", \"r\")\n",
    "text = file.read()\n",
    "text"
   ]
  },
  {
   "cell_type": "code",
   "execution_count": 40,
   "metadata": {
    "scrolled": false
   },
   "outputs": [
    {
     "data": {
      "image/svg+xml": [
       "<?xml version=\"1.0\" encoding=\"UTF-8\" standalone=\"no\"?>\r\n",
       "<!DOCTYPE svg PUBLIC \"-//W3C//DTD SVG 1.1//EN\"\r\n",
       " \"http://www.w3.org/Graphics/SVG/1.1/DTD/svg11.dtd\">\r\n",
       "<!-- Generated by graphviz version 2.38.0 (20140413.2041)\r\n",
       " -->\r\n",
       "<!-- Title: Tree Pages: 1 -->\r\n",
       "<svg width=\"1186pt\" height=\"373pt\"\r\n",
       " viewBox=\"0.00 0.00 1185.50 373.00\" xmlns=\"http://www.w3.org/2000/svg\" xmlns:xlink=\"http://www.w3.org/1999/xlink\">\r\n",
       "<g id=\"graph0\" class=\"graph\" transform=\"scale(1 1) rotate(0) translate(4 369)\">\r\n",
       "<title>Tree</title>\r\n",
       "<polygon fill=\"white\" stroke=\"none\" points=\"-4,4 -4,-369 1181.5,-369 1181.5,4 -4,4\"/>\r\n",
       "<!-- 0 -->\r\n",
       "<g id=\"node1\" class=\"node\"><title>0</title>\r\n",
       "<polygon fill=\"none\" stroke=\"black\" points=\"688,-365 536,-365 536,-297 688,-297 688,-365\"/>\r\n",
       "<text text-anchor=\"middle\" x=\"612\" y=\"-349.8\" font-family=\"Times New Roman,serif\" font-size=\"14.00\">trans_4 &lt;= 0.5</text>\r\n",
       "<text text-anchor=\"middle\" x=\"612\" y=\"-334.8\" font-family=\"Times New Roman,serif\" font-size=\"14.00\">entropy = 0.747</text>\r\n",
       "<text text-anchor=\"middle\" x=\"612\" y=\"-319.8\" font-family=\"Times New Roman,serif\" font-size=\"14.00\">samples = 278273</text>\r\n",
       "<text text-anchor=\"middle\" x=\"612\" y=\"-304.8\" font-family=\"Times New Roman,serif\" font-size=\"14.00\">value = [218994, 59279]</text>\r\n",
       "</g>\r\n",
       "<!-- 1 -->\r\n",
       "<g id=\"node2\" class=\"node\"><title>1</title>\r\n",
       "<polygon fill=\"none\" stroke=\"black\" points=\"574,-261 422,-261 422,-193 574,-193 574,-261\"/>\r\n",
       "<text text-anchor=\"middle\" x=\"498\" y=\"-245.8\" font-family=\"Times New Roman,serif\" font-size=\"14.00\">trans_3 &lt;= 0.5</text>\r\n",
       "<text text-anchor=\"middle\" x=\"498\" y=\"-230.8\" font-family=\"Times New Roman,serif\" font-size=\"14.00\">entropy = 0.821</text>\r\n",
       "<text text-anchor=\"middle\" x=\"498\" y=\"-215.8\" font-family=\"Times New Roman,serif\" font-size=\"14.00\">samples = 225527</text>\r\n",
       "<text text-anchor=\"middle\" x=\"498\" y=\"-200.8\" font-family=\"Times New Roman,serif\" font-size=\"14.00\">value = [167765, 57762]</text>\r\n",
       "</g>\r\n",
       "<!-- 0&#45;&gt;1 -->\r\n",
       "<g id=\"edge1\" class=\"edge\"><title>0&#45;&gt;1</title>\r\n",
       "<path fill=\"none\" stroke=\"black\" d=\"M574.987,-296.884C564.734,-287.709 553.491,-277.65 542.843,-268.123\"/>\r\n",
       "<polygon fill=\"black\" stroke=\"black\" points=\"545.003,-265.359 535.217,-261.299 540.336,-270.576 545.003,-265.359\"/>\r\n",
       "<text text-anchor=\"middle\" x=\"536.604\" y=\"-282.561\" font-family=\"Times New Roman,serif\" font-size=\"14.00\">True</text>\r\n",
       "</g>\r\n",
       "<!-- 8 -->\r\n",
       "<g id=\"node9\" class=\"node\"><title>8</title>\r\n",
       "<polygon fill=\"none\" stroke=\"black\" points=\"795,-261 657,-261 657,-193 795,-193 795,-261\"/>\r\n",
       "<text text-anchor=\"middle\" x=\"726\" y=\"-245.8\" font-family=\"Times New Roman,serif\" font-size=\"14.00\">eta &lt;= 2132.5</text>\r\n",
       "<text text-anchor=\"middle\" x=\"726\" y=\"-230.8\" font-family=\"Times New Roman,serif\" font-size=\"14.00\">entropy = 0.188</text>\r\n",
       "<text text-anchor=\"middle\" x=\"726\" y=\"-215.8\" font-family=\"Times New Roman,serif\" font-size=\"14.00\">samples = 52746</text>\r\n",
       "<text text-anchor=\"middle\" x=\"726\" y=\"-200.8\" font-family=\"Times New Roman,serif\" font-size=\"14.00\">value = [51229, 1517]</text>\r\n",
       "</g>\r\n",
       "<!-- 0&#45;&gt;8 -->\r\n",
       "<g id=\"edge8\" class=\"edge\"><title>0&#45;&gt;8</title>\r\n",
       "<path fill=\"none\" stroke=\"black\" d=\"M649.013,-296.884C659.266,-287.709 670.509,-277.65 681.157,-268.123\"/>\r\n",
       "<polygon fill=\"black\" stroke=\"black\" points=\"683.664,-270.576 688.783,-261.299 678.997,-265.359 683.664,-270.576\"/>\r\n",
       "<text text-anchor=\"middle\" x=\"687.396\" y=\"-282.561\" font-family=\"Times New Roman,serif\" font-size=\"14.00\">False</text>\r\n",
       "</g>\r\n",
       "<!-- 2 -->\r\n",
       "<g id=\"node3\" class=\"node\"><title>2</title>\r\n",
       "<polygon fill=\"none\" stroke=\"black\" points=\"305,-157 153,-157 153,-89 305,-89 305,-157\"/>\r\n",
       "<text text-anchor=\"middle\" x=\"229\" y=\"-141.8\" font-family=\"Times New Roman,serif\" font-size=\"14.00\">price &lt;= 100.0</text>\r\n",
       "<text text-anchor=\"middle\" x=\"229\" y=\"-126.8\" font-family=\"Times New Roman,serif\" font-size=\"14.00\">entropy = 0.91</text>\r\n",
       "<text text-anchor=\"middle\" x=\"229\" y=\"-111.8\" font-family=\"Times New Roman,serif\" font-size=\"14.00\">samples = 169234</text>\r\n",
       "<text text-anchor=\"middle\" x=\"229\" y=\"-96.8\" font-family=\"Times New Roman,serif\" font-size=\"14.00\">value = [114237, 54997]</text>\r\n",
       "</g>\r\n",
       "<!-- 1&#45;&gt;2 -->\r\n",
       "<g id=\"edge2\" class=\"edge\"><title>1&#45;&gt;2</title>\r\n",
       "<path fill=\"none\" stroke=\"black\" d=\"M421.994,-197.18C388.621,-184.525 349.281,-169.608 314.855,-156.555\"/>\r\n",
       "<polygon fill=\"black\" stroke=\"black\" points=\"315.876,-153.199 305.284,-152.926 313.394,-159.744 315.876,-153.199\"/>\r\n",
       "</g>\r\n",
       "<!-- 5 -->\r\n",
       "<g id=\"node6\" class=\"node\"><title>5</title>\r\n",
       "<polygon fill=\"none\" stroke=\"black\" points=\"567,-157 429,-157 429,-89 567,-89 567,-157\"/>\r\n",
       "<text text-anchor=\"middle\" x=\"498\" y=\"-141.8\" font-family=\"Times New Roman,serif\" font-size=\"14.00\">eta &lt;= 4870.5</text>\r\n",
       "<text text-anchor=\"middle\" x=\"498\" y=\"-126.8\" font-family=\"Times New Roman,serif\" font-size=\"14.00\">entropy = 0.283</text>\r\n",
       "<text text-anchor=\"middle\" x=\"498\" y=\"-111.8\" font-family=\"Times New Roman,serif\" font-size=\"14.00\">samples = 56293</text>\r\n",
       "<text text-anchor=\"middle\" x=\"498\" y=\"-96.8\" font-family=\"Times New Roman,serif\" font-size=\"14.00\">value = [53528, 2765]</text>\r\n",
       "</g>\r\n",
       "<!-- 1&#45;&gt;5 -->\r\n",
       "<g id=\"edge5\" class=\"edge\"><title>1&#45;&gt;5</title>\r\n",
       "<path fill=\"none\" stroke=\"black\" d=\"M498,-192.884C498,-184.778 498,-175.982 498,-167.472\"/>\r\n",
       "<polygon fill=\"black\" stroke=\"black\" points=\"501.5,-167.299 498,-157.299 494.5,-167.299 501.5,-167.299\"/>\r\n",
       "</g>\r\n",
       "<!-- 3 -->\r\n",
       "<g id=\"node4\" class=\"node\"><title>3</title>\r\n",
       "<polygon fill=\"none\" stroke=\"black\" points=\"138,-53 0,-53 0,-0 138,-0 138,-53\"/>\r\n",
       "<text text-anchor=\"middle\" x=\"69\" y=\"-37.8\" font-family=\"Times New Roman,serif\" font-size=\"14.00\">entropy = 0.644</text>\r\n",
       "<text text-anchor=\"middle\" x=\"69\" y=\"-22.8\" font-family=\"Times New Roman,serif\" font-size=\"14.00\">samples = 40601</text>\r\n",
       "<text text-anchor=\"middle\" x=\"69\" y=\"-7.8\" font-family=\"Times New Roman,serif\" font-size=\"14.00\">value = [33942, 6659]</text>\r\n",
       "</g>\r\n",
       "<!-- 2&#45;&gt;3 -->\r\n",
       "<g id=\"edge3\" class=\"edge\"><title>2&#45;&gt;3</title>\r\n",
       "<path fill=\"none\" stroke=\"black\" d=\"M173.04,-88.9485C156.236,-79.0237 137.872,-68.1776 121.314,-58.3977\"/>\r\n",
       "<polygon fill=\"black\" stroke=\"black\" points=\"122.712,-55.1586 112.321,-53.0867 119.152,-61.1858 122.712,-55.1586\"/>\r\n",
       "</g>\r\n",
       "<!-- 4 -->\r\n",
       "<g id=\"node5\" class=\"node\"><title>4</title>\r\n",
       "<polygon fill=\"none\" stroke=\"black\" points=\"301.5,-53 156.5,-53 156.5,-0 301.5,-0 301.5,-53\"/>\r\n",
       "<text text-anchor=\"middle\" x=\"229\" y=\"-37.8\" font-family=\"Times New Roman,serif\" font-size=\"14.00\">entropy = 0.955</text>\r\n",
       "<text text-anchor=\"middle\" x=\"229\" y=\"-22.8\" font-family=\"Times New Roman,serif\" font-size=\"14.00\">samples = 128633</text>\r\n",
       "<text text-anchor=\"middle\" x=\"229\" y=\"-7.8\" font-family=\"Times New Roman,serif\" font-size=\"14.00\">value = [80295, 48338]</text>\r\n",
       "</g>\r\n",
       "<!-- 2&#45;&gt;4 -->\r\n",
       "<g id=\"edge4\" class=\"edge\"><title>2&#45;&gt;4</title>\r\n",
       "<path fill=\"none\" stroke=\"black\" d=\"M229,-88.9485C229,-80.7153 229,-71.848 229,-63.4814\"/>\r\n",
       "<polygon fill=\"black\" stroke=\"black\" points=\"232.5,-63.2367 229,-53.2367 225.5,-63.2367 232.5,-63.2367\"/>\r\n",
       "</g>\r\n",
       "<!-- 6 -->\r\n",
       "<g id=\"node7\" class=\"node\"><title>6</title>\r\n",
       "<polygon fill=\"none\" stroke=\"black\" points=\"458,-53 320,-53 320,-0 458,-0 458,-53\"/>\r\n",
       "<text text-anchor=\"middle\" x=\"389\" y=\"-37.8\" font-family=\"Times New Roman,serif\" font-size=\"14.00\">entropy = 0.276</text>\r\n",
       "<text text-anchor=\"middle\" x=\"389\" y=\"-22.8\" font-family=\"Times New Roman,serif\" font-size=\"14.00\">samples = 54437</text>\r\n",
       "<text text-anchor=\"middle\" x=\"389\" y=\"-7.8\" font-family=\"Times New Roman,serif\" font-size=\"14.00\">value = [51843, 2594]</text>\r\n",
       "</g>\r\n",
       "<!-- 5&#45;&gt;6 -->\r\n",
       "<g id=\"edge6\" class=\"edge\"><title>5&#45;&gt;6</title>\r\n",
       "<path fill=\"none\" stroke=\"black\" d=\"M459.877,-88.9485C449.009,-79.526 437.183,-69.2731 426.361,-59.8906\"/>\r\n",
       "<polygon fill=\"black\" stroke=\"black\" points=\"428.534,-57.1428 418.686,-53.2367 423.949,-62.4319 428.534,-57.1428\"/>\r\n",
       "</g>\r\n",
       "<!-- 7 -->\r\n",
       "<g id=\"node8\" class=\"node\"><title>7</title>\r\n",
       "<polygon fill=\"none\" stroke=\"black\" points=\"601.5,-53 476.5,-53 476.5,-0 601.5,-0 601.5,-53\"/>\r\n",
       "<text text-anchor=\"middle\" x=\"539\" y=\"-37.8\" font-family=\"Times New Roman,serif\" font-size=\"14.00\">entropy = 0.444</text>\r\n",
       "<text text-anchor=\"middle\" x=\"539\" y=\"-22.8\" font-family=\"Times New Roman,serif\" font-size=\"14.00\">samples = 1856</text>\r\n",
       "<text text-anchor=\"middle\" x=\"539\" y=\"-7.8\" font-family=\"Times New Roman,serif\" font-size=\"14.00\">value = [1685, 171]</text>\r\n",
       "</g>\r\n",
       "<!-- 5&#45;&gt;7 -->\r\n",
       "<g id=\"edge7\" class=\"edge\"><title>5&#45;&gt;7</title>\r\n",
       "<path fill=\"none\" stroke=\"black\" d=\"M512.34,-88.9485C516.031,-80.4408 520.016,-71.2562 523.751,-62.6464\"/>\r\n",
       "<polygon fill=\"black\" stroke=\"black\" points=\"527.064,-63.8036 527.834,-53.2367 520.643,-61.0174 527.064,-63.8036\"/>\r\n",
       "</g>\r\n",
       "<!-- 9 -->\r\n",
       "<g id=\"node10\" class=\"node\"><title>9</title>\r\n",
       "<polygon fill=\"none\" stroke=\"black\" points=\"795,-157 657,-157 657,-89 795,-89 795,-157\"/>\r\n",
       "<text text-anchor=\"middle\" x=\"726\" y=\"-141.8\" font-family=\"Times New Roman,serif\" font-size=\"14.00\">eta &lt;= 1387.5</text>\r\n",
       "<text text-anchor=\"middle\" x=\"726\" y=\"-126.8\" font-family=\"Times New Roman,serif\" font-size=\"14.00\">entropy = 0.236</text>\r\n",
       "<text text-anchor=\"middle\" x=\"726\" y=\"-111.8\" font-family=\"Times New Roman,serif\" font-size=\"14.00\">samples = 27398</text>\r\n",
       "<text text-anchor=\"middle\" x=\"726\" y=\"-96.8\" font-family=\"Times New Roman,serif\" font-size=\"14.00\">value = [26337, 1061]</text>\r\n",
       "</g>\r\n",
       "<!-- 8&#45;&gt;9 -->\r\n",
       "<g id=\"edge9\" class=\"edge\"><title>8&#45;&gt;9</title>\r\n",
       "<path fill=\"none\" stroke=\"black\" d=\"M726,-192.884C726,-184.778 726,-175.982 726,-167.472\"/>\r\n",
       "<polygon fill=\"black\" stroke=\"black\" points=\"729.5,-167.299 726,-157.299 722.5,-167.299 729.5,-167.299\"/>\r\n",
       "</g>\r\n",
       "<!-- 12 -->\r\n",
       "<g id=\"node13\" class=\"node\"><title>12</title>\r\n",
       "<polygon fill=\"none\" stroke=\"black\" points=\"1038.5,-157 907.5,-157 907.5,-89 1038.5,-89 1038.5,-157\"/>\r\n",
       "<text text-anchor=\"middle\" x=\"973\" y=\"-141.8\" font-family=\"Times New Roman,serif\" font-size=\"14.00\">hour &lt;= 1.5</text>\r\n",
       "<text text-anchor=\"middle\" x=\"973\" y=\"-126.8\" font-family=\"Times New Roman,serif\" font-size=\"14.00\">entropy = 0.13</text>\r\n",
       "<text text-anchor=\"middle\" x=\"973\" y=\"-111.8\" font-family=\"Times New Roman,serif\" font-size=\"14.00\">samples = 25348</text>\r\n",
       "<text text-anchor=\"middle\" x=\"973\" y=\"-96.8\" font-family=\"Times New Roman,serif\" font-size=\"14.00\">value = [24892, 456]</text>\r\n",
       "</g>\r\n",
       "<!-- 8&#45;&gt;12 -->\r\n",
       "<g id=\"edge12\" class=\"edge\"><title>8&#45;&gt;12</title>\r\n",
       "<path fill=\"none\" stroke=\"black\" d=\"M795.132,-197.452C827.086,-184.256 865.107,-168.555 897.778,-155.063\"/>\r\n",
       "<polygon fill=\"black\" stroke=\"black\" points=\"899.379,-158.189 907.286,-151.137 896.707,-151.719 899.379,-158.189\"/>\r\n",
       "</g>\r\n",
       "<!-- 10 -->\r\n",
       "<g id=\"node11\" class=\"node\"><title>10</title>\r\n",
       "<polygon fill=\"none\" stroke=\"black\" points=\"750.5,-53 619.5,-53 619.5,-0 750.5,-0 750.5,-53\"/>\r\n",
       "<text text-anchor=\"middle\" x=\"685\" y=\"-37.8\" font-family=\"Times New Roman,serif\" font-size=\"14.00\">entropy = 0.267</text>\r\n",
       "<text text-anchor=\"middle\" x=\"685\" y=\"-22.8\" font-family=\"Times New Roman,serif\" font-size=\"14.00\">samples = 14991</text>\r\n",
       "<text text-anchor=\"middle\" x=\"685\" y=\"-7.8\" font-family=\"Times New Roman,serif\" font-size=\"14.00\">value = [14310, 681]</text>\r\n",
       "</g>\r\n",
       "<!-- 9&#45;&gt;10 -->\r\n",
       "<g id=\"edge10\" class=\"edge\"><title>9&#45;&gt;10</title>\r\n",
       "<path fill=\"none\" stroke=\"black\" d=\"M711.66,-88.9485C707.969,-80.4408 703.984,-71.2562 700.249,-62.6464\"/>\r\n",
       "<polygon fill=\"black\" stroke=\"black\" points=\"703.357,-61.0174 696.166,-53.2367 696.936,-63.8036 703.357,-61.0174\"/>\r\n",
       "</g>\r\n",
       "<!-- 11 -->\r\n",
       "<g id=\"node12\" class=\"node\"><title>11</title>\r\n",
       "<polygon fill=\"none\" stroke=\"black\" points=\"899.5,-53 768.5,-53 768.5,-0 899.5,-0 899.5,-53\"/>\r\n",
       "<text text-anchor=\"middle\" x=\"834\" y=\"-37.8\" font-family=\"Times New Roman,serif\" font-size=\"14.00\">entropy = 0.198</text>\r\n",
       "<text text-anchor=\"middle\" x=\"834\" y=\"-22.8\" font-family=\"Times New Roman,serif\" font-size=\"14.00\">samples = 12407</text>\r\n",
       "<text text-anchor=\"middle\" x=\"834\" y=\"-7.8\" font-family=\"Times New Roman,serif\" font-size=\"14.00\">value = [12027, 380]</text>\r\n",
       "</g>\r\n",
       "<!-- 9&#45;&gt;11 -->\r\n",
       "<g id=\"edge11\" class=\"edge\"><title>9&#45;&gt;11</title>\r\n",
       "<path fill=\"none\" stroke=\"black\" d=\"M763.773,-88.9485C774.542,-79.526 786.259,-69.2731 796.982,-59.8906\"/>\r\n",
       "<polygon fill=\"black\" stroke=\"black\" points=\"799.366,-62.4558 804.587,-53.2367 794.756,-57.1878 799.366,-62.4558\"/>\r\n",
       "</g>\r\n",
       "<!-- 13 -->\r\n",
       "<g id=\"node14\" class=\"node\"><title>13</title>\r\n",
       "<polygon fill=\"none\" stroke=\"black\" points=\"1028.5,-53 917.5,-53 917.5,-0 1028.5,-0 1028.5,-53\"/>\r\n",
       "<text text-anchor=\"middle\" x=\"973\" y=\"-37.8\" font-family=\"Times New Roman,serif\" font-size=\"14.00\">entropy = 0.347</text>\r\n",
       "<text text-anchor=\"middle\" x=\"973\" y=\"-22.8\" font-family=\"Times New Roman,serif\" font-size=\"14.00\">samples = 246</text>\r\n",
       "<text text-anchor=\"middle\" x=\"973\" y=\"-7.8\" font-family=\"Times New Roman,serif\" font-size=\"14.00\">value = [230, 16]</text>\r\n",
       "</g>\r\n",
       "<!-- 12&#45;&gt;13 -->\r\n",
       "<g id=\"edge13\" class=\"edge\"><title>12&#45;&gt;13</title>\r\n",
       "<path fill=\"none\" stroke=\"black\" d=\"M973,-88.9485C973,-80.7153 973,-71.848 973,-63.4814\"/>\r\n",
       "<polygon fill=\"black\" stroke=\"black\" points=\"976.5,-63.2367 973,-53.2367 969.5,-63.2367 976.5,-63.2367\"/>\r\n",
       "</g>\r\n",
       "<!-- 14 -->\r\n",
       "<g id=\"node15\" class=\"node\"><title>14</title>\r\n",
       "<polygon fill=\"none\" stroke=\"black\" points=\"1177.5,-53 1046.5,-53 1046.5,-0 1177.5,-0 1177.5,-53\"/>\r\n",
       "<text text-anchor=\"middle\" x=\"1112\" y=\"-37.8\" font-family=\"Times New Roman,serif\" font-size=\"14.00\">entropy = 0.127</text>\r\n",
       "<text text-anchor=\"middle\" x=\"1112\" y=\"-22.8\" font-family=\"Times New Roman,serif\" font-size=\"14.00\">samples = 25102</text>\r\n",
       "<text text-anchor=\"middle\" x=\"1112\" y=\"-7.8\" font-family=\"Times New Roman,serif\" font-size=\"14.00\">value = [24662, 440]</text>\r\n",
       "</g>\r\n",
       "<!-- 12&#45;&gt;14 -->\r\n",
       "<g id=\"edge14\" class=\"edge\"><title>12&#45;&gt;14</title>\r\n",
       "<path fill=\"none\" stroke=\"black\" d=\"M1021.62,-88.9485C1035.88,-79.2516 1051.44,-68.6752 1065.56,-59.073\"/>\r\n",
       "<polygon fill=\"black\" stroke=\"black\" points=\"1067.84,-61.7535 1074.14,-53.2367 1063.91,-55.9646 1067.84,-61.7535\"/>\r\n",
       "</g>\r\n",
       "</g>\r\n",
       "</svg>\r\n"
      ],
      "text/plain": [
       "<graphviz.files.Source at 0x1f99dec5438>"
      ]
     },
     "execution_count": 40,
     "metadata": {},
     "output_type": "execute_result"
    }
   ],
   "source": [
    "Source(text)"
   ]
  },
  {
   "cell_type": "markdown",
   "metadata": {},
   "source": [
    "## RANDOM FOREST CON TRAIN Y VALIDATION"
   ]
  },
  {
   "cell_type": "code",
   "execution_count": 18,
   "metadata": {},
   "outputs": [],
   "source": [
    "from sklearn.ensemble import RandomForestClassifier"
   ]
  },
  {
   "cell_type": "code",
   "execution_count": 19,
   "metadata": {},
   "outputs": [],
   "source": [
    "# Para entrenar el árbol utilizamos el conjunto de Train\n",
    "X = train[predictors]\n",
    "Y = train[target].values.flatten()"
   ]
  },
  {
   "cell_type": "code",
   "execution_count": 20,
   "metadata": {},
   "outputs": [
    {
     "data": {
      "text/plain": [
       "RandomForestClassifier(bootstrap=True, class_weight=None, criterion='entropy',\n",
       "            max_depth=None, max_features='auto', max_leaf_nodes=None,\n",
       "            min_impurity_decrease=0.0, min_impurity_split=None,\n",
       "            min_samples_leaf=1, min_samples_split=2,\n",
       "            min_weight_fraction_leaf=0.0, n_estimators=1000, n_jobs=2,\n",
       "            oob_score=True, random_state=None, verbose=0, warm_start=False)"
      ]
     },
     "execution_count": 20,
     "metadata": {},
     "output_type": "execute_result"
    }
   ],
   "source": [
    "forest = RandomForestClassifier(criterion = 'entropy', max_depth = None, min_samples_split = 2, n_jobs=2, oob_score=True, n_estimators=1000)\n",
    "forest.fit(X, Y)"
   ]
  },
  {
   "cell_type": "code",
   "execution_count": 45,
   "metadata": {},
   "outputs": [
    {
     "data": {
      "text/plain": [
       "array([[0.47631579, 0.52368421],\n",
       "       [0.95543175, 0.04456825],\n",
       "       [0.70454545, 0.29545455],\n",
       "       ...,\n",
       "       [0.98630137, 0.01369863],\n",
       "       [0.96708861, 0.03291139],\n",
       "       [0.94778068, 0.05221932]])"
      ]
     },
     "execution_count": 45,
     "metadata": {},
     "output_type": "execute_result"
    }
   ],
   "source": [
    "forest.oob_decision_function_"
   ]
  },
  {
   "cell_type": "code",
   "execution_count": 46,
   "metadata": {},
   "outputs": [
    {
     "data": {
      "text/plain": [
       "0.8413356667732766"
      ]
     },
     "execution_count": 46,
     "metadata": {},
     "output_type": "execute_result"
    }
   ],
   "source": [
    "forest.oob_score_"
   ]
  },
  {
   "cell_type": "code",
   "execution_count": 21,
   "metadata": {},
   "outputs": [],
   "source": [
    "y_preds = forest.predict(test[predictors]) #Predicciones en tabla validación"
   ]
  },
  {
   "cell_type": "code",
   "execution_count": 22,
   "metadata": {},
   "outputs": [],
   "source": [
    "y_true = test[target].values.flatten() #Verdaderos valores Tabla validación"
   ]
  },
  {
   "cell_type": "code",
   "execution_count": 23,
   "metadata": {},
   "outputs": [],
   "source": [
    "import sklearn.metrics"
   ]
  },
  {
   "cell_type": "code",
   "execution_count": 50,
   "metadata": {},
   "outputs": [
    {
     "data": {
      "text/plain": [
       "0.8409750518264351"
      ]
     },
     "execution_count": 50,
     "metadata": {},
     "output_type": "execute_result"
    }
   ],
   "source": [
    "sklearn.metrics.accuracy_score(y_true, y_preds, normalize=True, sample_weight=None)"
   ]
  },
  {
   "cell_type": "code",
   "execution_count": 24,
   "metadata": {},
   "outputs": [
    {
     "data": {
      "text/html": [
       "<div>\n",
       "<style scoped>\n",
       "    .dataframe tbody tr th:only-of-type {\n",
       "        vertical-align: middle;\n",
       "    }\n",
       "\n",
       "    .dataframe tbody tr th {\n",
       "        vertical-align: top;\n",
       "    }\n",
       "\n",
       "    .dataframe thead th {\n",
       "        text-align: right;\n",
       "    }\n",
       "</style>\n",
       "<table border=\"1\" class=\"dataframe\">\n",
       "  <thead>\n",
       "    <tr style=\"text-align: right;\">\n",
       "      <th>Predictions</th>\n",
       "      <th>0</th>\n",
       "      <th>1</th>\n",
       "    </tr>\n",
       "    <tr>\n",
       "      <th>Actual</th>\n",
       "      <th></th>\n",
       "      <th></th>\n",
       "    </tr>\n",
       "  </thead>\n",
       "  <tbody>\n",
       "    <tr>\n",
       "      <th>0</th>\n",
       "      <td>51348</td>\n",
       "      <td>3235</td>\n",
       "    </tr>\n",
       "    <tr>\n",
       "      <th>1</th>\n",
       "      <td>7893</td>\n",
       "      <td>7015</td>\n",
       "    </tr>\n",
       "  </tbody>\n",
       "</table>\n",
       "</div>"
      ],
      "text/plain": [
       "Predictions      0     1\n",
       "Actual                  \n",
       "0            51348  3235\n",
       "1             7893  7015"
      ]
     },
     "execution_count": 24,
     "metadata": {},
     "output_type": "execute_result"
    }
   ],
   "source": [
    "pd.crosstab(y_true, y_preds, rownames=[\"Actual\"], colnames=[\"Predictions\"])"
   ]
  },
  {
   "cell_type": "code",
   "execution_count": 26,
   "metadata": {},
   "outputs": [],
   "source": [
    "import sklearn.metrics"
   ]
  },
  {
   "cell_type": "code",
   "execution_count": 27,
   "metadata": {},
   "outputs": [
    {
     "ename": "NameError",
     "evalue": "name 'roc_auc_score' is not defined",
     "output_type": "error",
     "traceback": [
      "\u001b[1;31m---------------------------------------------------------------------------\u001b[0m",
      "\u001b[1;31mNameError\u001b[0m                                 Traceback (most recent call last)",
      "\u001b[1;32m<ipython-input-27-9512bdeaf7ee>\u001b[0m in \u001b[0;36m<module>\u001b[1;34m\u001b[0m\n\u001b[1;32m----> 1\u001b[1;33m \u001b[0mroc_auc_score\u001b[0m\u001b[1;33m(\u001b[0m\u001b[0my_true\u001b[0m\u001b[1;33m,\u001b[0m \u001b[0my_preds\u001b[0m\u001b[1;33m)\u001b[0m\u001b[1;33m\u001b[0m\u001b[1;33m\u001b[0m\u001b[0m\n\u001b[0m",
      "\u001b[1;31mNameError\u001b[0m: name 'roc_auc_score' is not defined"
     ]
    }
   ],
   "source": [
    "roc_auc_score(y_true, y_preds)"
   ]
  },
  {
   "cell_type": "markdown",
   "metadata": {},
   "source": [
    "## Ver importancia variables"
   ]
  },
  {
   "cell_type": "code",
   "execution_count": 51,
   "metadata": {},
   "outputs": [
    {
     "data": {
      "text/plain": [
       "[0.05639399576081329,\n",
       " 0.09124330583102358,\n",
       " 0.09082643389751846,\n",
       " 0.11496026426338812,\n",
       " 0.06668455123517208,\n",
       " 0.12136409510717802,\n",
       " 0.11532863766896477,\n",
       " 0.0023992286825483874,\n",
       " 0.10952368963239338,\n",
       " 0.03949693247478206,\n",
       " 0.0075464210134017435,\n",
       " 0.006232521252767076,\n",
       " 0.008830339642972081,\n",
       " 0.05537152239237254,\n",
       " 0.028480091771073995,\n",
       " 0.04178294050554525,\n",
       " 0.0108889377191714,\n",
       " 0.011499327714224057,\n",
       " 0.010265224213954973,\n",
       " 0.0005376792743642082,\n",
       " 0.006567536310965799,\n",
       " 0.0027739620682827155,\n",
       " 0.0010023615671217881]"
      ]
     },
     "execution_count": 51,
     "metadata": {},
     "output_type": "execute_result"
    }
   ],
   "source": [
    "list(forest.feature_importances_)"
   ]
  },
  {
   "cell_type": "code",
   "execution_count": 52,
   "metadata": {},
   "outputs": [
    {
     "data": {
      "image/png": "[encoded data removed]",
      "text/plain": [
       "<Figure size 432x288 with 1 Axes>"
      ]
     },
     "metadata": {
      "needs_background": "light"
     },
     "output_type": "display_data"
    }
   ],
   "source": [
    "from matplotlib import pyplot\n",
    "pyplot.bar(range(len(forest.feature_importances_)), forest.feature_importances_)\n",
    "pyplot.show()"
   ]
  },
  {
   "cell_type": "code",
   "execution_count": 53,
   "metadata": {},
   "outputs": [
    {
     "data": {
      "text/plain": [
       "['hour',\n",
       " 'termicSensation_origin',\n",
       " 'termicSensation_destination',\n",
       " 'distance',\n",
       " 'price',\n",
       " 'eta',\n",
       " 'min_distance',\n",
       " 'min_price',\n",
       " 'min_eta',\n",
       " 'weekday_number',\n",
       " 'hora_punta',\n",
       " 'llovizna',\n",
       " 'trans_1',\n",
       " 'trans_2',\n",
       " 'trans_3',\n",
       " 'trans_4',\n",
       " 'trans_5',\n",
       " 'trans_6',\n",
       " 'trans_7',\n",
       " 'trans_8',\n",
       " 'trans_9',\n",
       " 'trans_10',\n",
       " 'trans_11']"
      ]
     },
     "execution_count": 53,
     "metadata": {},
     "output_type": "execute_result"
    }
   ],
   "source": [
    "predictors"
   ]
  },
  {
   "cell_type": "markdown",
   "metadata": {},
   "source": [
    "### GUARDAR EL MODELO "
   ]
  },
  {
   "cell_type": "code",
   "execution_count": 5,
   "metadata": {},
   "outputs": [],
   "source": [
    "from joblib import dump, load"
   ]
  },
  {
   "cell_type": "code",
   "execution_count": 171,
   "metadata": {},
   "outputs": [
    {
     "data": {
      "text/plain": [
       "['forest_dummies.pkl']"
      ]
     },
     "execution_count": 171,
     "metadata": {},
     "output_type": "execute_result"
    }
   ],
   "source": [
    "dump(forest, 'forest_dummies.pkl') #Guardar archivo #0.83977 (val)"
   ]
  },
  {
   "cell_type": "code",
   "execution_count": 7,
   "metadata": {},
   "outputs": [],
   "source": [
    "archivo = './forest_dummies.pkl'\n",
    "model = load(archivo) "
   ]
  },
  {
   "cell_type": "markdown",
   "metadata": {},
   "source": [
    "## TABLA DEFINITIVA CON LAS PREDICCIONES"
   ]
  },
  {
   "cell_type": "markdown",
   "metadata": {},
   "source": [
    "## Ver comportamiento sobre tabla de train"
   ]
  },
  {
   "cell_type": "code",
   "execution_count": 54,
   "metadata": {},
   "outputs": [],
   "source": [
    "data_y_preds = forest.predict(data[predictors])"
   ]
  },
  {
   "cell_type": "code",
   "execution_count": 73,
   "metadata": {},
   "outputs": [],
   "source": [
    "df_preds = pd.DataFrame(data_y_preds,columns=['Y_pred'])"
   ]
  },
  {
   "cell_type": "code",
   "execution_count": 74,
   "metadata": {},
   "outputs": [
    {
     "data": {
      "text/html": [
       "<div>\n",
       "<style scoped>\n",
       "    .dataframe tbody tr th:only-of-type {\n",
       "        vertical-align: middle;\n",
       "    }\n",
       "\n",
       "    .dataframe tbody tr th {\n",
       "        vertical-align: top;\n",
       "    }\n",
       "\n",
       "    .dataframe thead th {\n",
       "        text-align: right;\n",
       "    }\n",
       "</style>\n",
       "<table border=\"1\" class=\"dataframe\">\n",
       "  <thead>\n",
       "    <tr style=\"text-align: right;\">\n",
       "      <th></th>\n",
       "      <th>Y_pred</th>\n",
       "    </tr>\n",
       "  </thead>\n",
       "  <tbody>\n",
       "    <tr>\n",
       "      <th>0</th>\n",
       "      <td>1</td>\n",
       "    </tr>\n",
       "    <tr>\n",
       "      <th>1</th>\n",
       "      <td>0</td>\n",
       "    </tr>\n",
       "    <tr>\n",
       "      <th>2</th>\n",
       "      <td>1</td>\n",
       "    </tr>\n",
       "    <tr>\n",
       "      <th>3</th>\n",
       "      <td>0</td>\n",
       "    </tr>\n",
       "    <tr>\n",
       "      <th>4</th>\n",
       "      <td>0</td>\n",
       "    </tr>\n",
       "  </tbody>\n",
       "</table>\n",
       "</div>"
      ],
      "text/plain": [
       "   Y_pred\n",
       "0       1\n",
       "1       0\n",
       "2       1\n",
       "3       0\n",
       "4       0"
      ]
     },
     "execution_count": 74,
     "metadata": {},
     "output_type": "execute_result"
    }
   ],
   "source": [
    "df_preds.head()"
   ]
  },
  {
   "cell_type": "code",
   "execution_count": 75,
   "metadata": {},
   "outputs": [
    {
     "data": {
      "text/html": [
       "<div>\n",
       "<style scoped>\n",
       "    .dataframe tbody tr th:only-of-type {\n",
       "        vertical-align: middle;\n",
       "    }\n",
       "\n",
       "    .dataframe tbody tr th {\n",
       "        vertical-align: top;\n",
       "    }\n",
       "\n",
       "    .dataframe thead th {\n",
       "        text-align: right;\n",
       "    }\n",
       "</style>\n",
       "<table border=\"1\" class=\"dataframe\">\n",
       "  <thead>\n",
       "    <tr style=\"text-align: right;\">\n",
       "      <th></th>\n",
       "      <th>binaryTarget</th>\n",
       "    </tr>\n",
       "  </thead>\n",
       "  <tbody>\n",
       "    <tr>\n",
       "      <th>0</th>\n",
       "      <td>1</td>\n",
       "    </tr>\n",
       "    <tr>\n",
       "      <th>1</th>\n",
       "      <td>0</td>\n",
       "    </tr>\n",
       "    <tr>\n",
       "      <th>2</th>\n",
       "      <td>1</td>\n",
       "    </tr>\n",
       "    <tr>\n",
       "      <th>3</th>\n",
       "      <td>0</td>\n",
       "    </tr>\n",
       "    <tr>\n",
       "      <th>4</th>\n",
       "      <td>0</td>\n",
       "    </tr>\n",
       "  </tbody>\n",
       "</table>\n",
       "</div>"
      ],
      "text/plain": [
       "   binaryTarget\n",
       "0             1\n",
       "1             0\n",
       "2             1\n",
       "3             0\n",
       "4             0"
      ]
     },
     "execution_count": 75,
     "metadata": {},
     "output_type": "execute_result"
    }
   ],
   "source": [
    "data[target].head()"
   ]
  },
  {
   "cell_type": "code",
   "execution_count": 76,
   "metadata": {},
   "outputs": [],
   "source": [
    "tabla = data.merge(df_preds,left_index=True, right_index=True)"
   ]
  },
  {
   "cell_type": "code",
   "execution_count": 77,
   "metadata": {},
   "outputs": [
    {
     "data": {
      "text/html": [
       "<div>\n",
       "<style scoped>\n",
       "    .dataframe tbody tr th:only-of-type {\n",
       "        vertical-align: middle;\n",
       "    }\n",
       "\n",
       "    .dataframe tbody tr th {\n",
       "        vertical-align: top;\n",
       "    }\n",
       "\n",
       "    .dataframe thead th {\n",
       "        text-align: right;\n",
       "    }\n",
       "</style>\n",
       "<table border=\"1\" class=\"dataframe\">\n",
       "  <thead>\n",
       "    <tr style=\"text-align: right;\">\n",
       "      <th></th>\n",
       "      <th>sid</th>\n",
       "      <th>hour</th>\n",
       "      <th>termicSensation_origin</th>\n",
       "      <th>termicSensation_destination</th>\n",
       "      <th>transport_mode</th>\n",
       "      <th>distance</th>\n",
       "      <th>price</th>\n",
       "      <th>eta</th>\n",
       "      <th>min_distance</th>\n",
       "      <th>min_price</th>\n",
       "      <th>...</th>\n",
       "      <th>trans_4</th>\n",
       "      <th>trans_5</th>\n",
       "      <th>trans_6</th>\n",
       "      <th>trans_7</th>\n",
       "      <th>trans_8</th>\n",
       "      <th>trans_9</th>\n",
       "      <th>trans_10</th>\n",
       "      <th>trans_11</th>\n",
       "      <th>is_train</th>\n",
       "      <th>Y_pred</th>\n",
       "    </tr>\n",
       "  </thead>\n",
       "  <tbody>\n",
       "    <tr>\n",
       "      <th>0</th>\n",
       "      <td>1000014</td>\n",
       "      <td>17</td>\n",
       "      <td>49.65</td>\n",
       "      <td>49.65</td>\n",
       "      <td>2</td>\n",
       "      <td>5736</td>\n",
       "      <td>300</td>\n",
       "      <td>1875</td>\n",
       "      <td>5736</td>\n",
       "      <td>0</td>\n",
       "      <td>...</td>\n",
       "      <td>0</td>\n",
       "      <td>0</td>\n",
       "      <td>0</td>\n",
       "      <td>0</td>\n",
       "      <td>0</td>\n",
       "      <td>0</td>\n",
       "      <td>0</td>\n",
       "      <td>0</td>\n",
       "      <td>True</td>\n",
       "      <td>1</td>\n",
       "    </tr>\n",
       "    <tr>\n",
       "      <th>1</th>\n",
       "      <td>1000014</td>\n",
       "      <td>17</td>\n",
       "      <td>49.65</td>\n",
       "      <td>49.65</td>\n",
       "      <td>6</td>\n",
       "      <td>6158</td>\n",
       "      <td>0</td>\n",
       "      <td>1857</td>\n",
       "      <td>5736</td>\n",
       "      <td>0</td>\n",
       "      <td>...</td>\n",
       "      <td>0</td>\n",
       "      <td>0</td>\n",
       "      <td>1</td>\n",
       "      <td>0</td>\n",
       "      <td>0</td>\n",
       "      <td>0</td>\n",
       "      <td>0</td>\n",
       "      <td>0</td>\n",
       "      <td>True</td>\n",
       "      <td>0</td>\n",
       "    </tr>\n",
       "    <tr>\n",
       "      <th>2</th>\n",
       "      <td>1000063</td>\n",
       "      <td>15</td>\n",
       "      <td>58.75</td>\n",
       "      <td>58.92</td>\n",
       "      <td>1</td>\n",
       "      <td>6644</td>\n",
       "      <td>200</td>\n",
       "      <td>2988</td>\n",
       "      <td>6404</td>\n",
       "      <td>0</td>\n",
       "      <td>...</td>\n",
       "      <td>0</td>\n",
       "      <td>0</td>\n",
       "      <td>0</td>\n",
       "      <td>0</td>\n",
       "      <td>0</td>\n",
       "      <td>0</td>\n",
       "      <td>0</td>\n",
       "      <td>0</td>\n",
       "      <td>True</td>\n",
       "      <td>1</td>\n",
       "    </tr>\n",
       "    <tr>\n",
       "      <th>3</th>\n",
       "      <td>1000063</td>\n",
       "      <td>15</td>\n",
       "      <td>58.75</td>\n",
       "      <td>58.92</td>\n",
       "      <td>3</td>\n",
       "      <td>6663</td>\n",
       "      <td>0</td>\n",
       "      <td>1362</td>\n",
       "      <td>6404</td>\n",
       "      <td>0</td>\n",
       "      <td>...</td>\n",
       "      <td>0</td>\n",
       "      <td>0</td>\n",
       "      <td>0</td>\n",
       "      <td>0</td>\n",
       "      <td>0</td>\n",
       "      <td>0</td>\n",
       "      <td>0</td>\n",
       "      <td>0</td>\n",
       "      <td>True</td>\n",
       "      <td>0</td>\n",
       "    </tr>\n",
       "    <tr>\n",
       "      <th>4</th>\n",
       "      <td>1000068</td>\n",
       "      <td>12</td>\n",
       "      <td>53.62</td>\n",
       "      <td>53.54</td>\n",
       "      <td>1</td>\n",
       "      <td>9842</td>\n",
       "      <td>200</td>\n",
       "      <td>3037</td>\n",
       "      <td>6614</td>\n",
       "      <td>0</td>\n",
       "      <td>...</td>\n",
       "      <td>0</td>\n",
       "      <td>0</td>\n",
       "      <td>0</td>\n",
       "      <td>0</td>\n",
       "      <td>0</td>\n",
       "      <td>0</td>\n",
       "      <td>0</td>\n",
       "      <td>0</td>\n",
       "      <td>False</td>\n",
       "      <td>0</td>\n",
       "    </tr>\n",
       "  </tbody>\n",
       "</table>\n",
       "<p>5 rows × 28 columns</p>\n",
       "</div>"
      ],
      "text/plain": [
       "       sid  hour  termicSensation_origin  termicSensation_destination  \\\n",
       "0  1000014    17                   49.65                        49.65   \n",
       "1  1000014    17                   49.65                        49.65   \n",
       "2  1000063    15                   58.75                        58.92   \n",
       "3  1000063    15                   58.75                        58.92   \n",
       "4  1000068    12                   53.62                        53.54   \n",
       "\n",
       "   transport_mode  distance  price   eta  min_distance  min_price   ...    \\\n",
       "0               2      5736    300  1875          5736          0   ...     \n",
       "1               6      6158      0  1857          5736          0   ...     \n",
       "2               1      6644    200  2988          6404          0   ...     \n",
       "3               3      6663      0  1362          6404          0   ...     \n",
       "4               1      9842    200  3037          6614          0   ...     \n",
       "\n",
       "   trans_4  trans_5  trans_6  trans_7  trans_8  trans_9  trans_10  trans_11  \\\n",
       "0        0        0        0        0        0        0         0         0   \n",
       "1        0        0        1        0        0        0         0         0   \n",
       "2        0        0        0        0        0        0         0         0   \n",
       "3        0        0        0        0        0        0         0         0   \n",
       "4        0        0        0        0        0        0         0         0   \n",
       "\n",
       "   is_train  Y_pred  \n",
       "0      True       1  \n",
       "1      True       0  \n",
       "2      True       1  \n",
       "3      True       0  \n",
       "4     False       0  \n",
       "\n",
       "[5 rows x 28 columns]"
      ]
     },
     "execution_count": 77,
     "metadata": {},
     "output_type": "execute_result"
    }
   ],
   "source": [
    "tabla.head()"
   ]
  },
  {
   "cell_type": "code",
   "execution_count": 85,
   "metadata": {},
   "outputs": [
    {
     "data": {
      "text/html": [
       "<div>\n",
       "<style scoped>\n",
       "    .dataframe tbody tr th:only-of-type {\n",
       "        vertical-align: middle;\n",
       "    }\n",
       "\n",
       "    .dataframe tbody tr th {\n",
       "        vertical-align: top;\n",
       "    }\n",
       "\n",
       "    .dataframe thead th {\n",
       "        text-align: right;\n",
       "    }\n",
       "</style>\n",
       "<table border=\"1\" class=\"dataframe\">\n",
       "  <thead>\n",
       "    <tr style=\"text-align: right;\">\n",
       "      <th>Predictions</th>\n",
       "      <th>0</th>\n",
       "      <th>1</th>\n",
       "    </tr>\n",
       "    <tr>\n",
       "      <th>Actual</th>\n",
       "      <th></th>\n",
       "      <th></th>\n",
       "    </tr>\n",
       "  </thead>\n",
       "  <tbody>\n",
       "    <tr>\n",
       "      <th>0</th>\n",
       "      <td>224266</td>\n",
       "      <td>49817</td>\n",
       "    </tr>\n",
       "    <tr>\n",
       "      <th>1</th>\n",
       "      <td>54327</td>\n",
       "      <td>19805</td>\n",
       "    </tr>\n",
       "  </tbody>\n",
       "</table>\n",
       "</div>"
      ],
      "text/plain": [
       "Predictions       0      1\n",
       "Actual                    \n",
       "0            224266  49817\n",
       "1             54327  19805"
      ]
     },
     "execution_count": 85,
     "metadata": {},
     "output_type": "execute_result"
    }
   ],
   "source": [
    "pd.crosstab(tabla[target].values.flatten(), tabla['Y_pred'], rownames=[\"Actual\"], colnames=[\"Predictions\"])"
   ]
  },
  {
   "cell_type": "markdown",
   "metadata": {},
   "source": [
    "## ! Los aciertos se deben a los 0, pocos aciertos en los 1"
   ]
  },
  {
   "cell_type": "code",
   "execution_count": 86,
   "metadata": {},
   "outputs": [
    {
     "data": {
      "text/plain": [
       "0.7009204083683931"
      ]
     },
     "execution_count": 86,
     "metadata": {},
     "output_type": "execute_result"
    }
   ],
   "source": [
    "sklearn.metrics.accuracy_score(tabla[target].values.flatten(), tabla['Y_pred'], normalize=True, sample_weight=None)"
   ]
  },
  {
   "cell_type": "markdown",
   "metadata": {},
   "source": [
    "## HACER LA TABLA DE TEST PARA ENVIAR"
   ]
  },
  {
   "cell_type": "code",
   "execution_count": 87,
   "metadata": {},
   "outputs": [],
   "source": [
    "# Total datos evaluación \n",
    "data_eval = pd.read_excel('./Datos_Eval.xlsx')"
   ]
  },
  {
   "cell_type": "code",
   "execution_count": 89,
   "metadata": {},
   "outputs": [],
   "source": [
    "trans_dummies = pd.get_dummies(data_eval['transport_mode'], prefix='trans')"
   ]
  },
  {
   "cell_type": "code",
   "execution_count": 90,
   "metadata": {},
   "outputs": [],
   "source": [
    "data_eval = data_eval.merge(trans_dummies,left_index=True, right_index=True)"
   ]
  },
  {
   "cell_type": "code",
   "execution_count": 91,
   "metadata": {},
   "outputs": [],
   "source": [
    "data_y_preds = forest.predict(data_eval[predictors])"
   ]
  },
  {
   "cell_type": "code",
   "execution_count": 92,
   "metadata": {},
   "outputs": [],
   "source": [
    "df_preds = pd.DataFrame(data_y_preds,columns=['Y_pred'])"
   ]
  },
  {
   "cell_type": "code",
   "execution_count": 93,
   "metadata": {},
   "outputs": [],
   "source": [
    "tabla = data_eval.merge(df_preds,left_index=True, right_index=True)"
   ]
  },
  {
   "cell_type": "code",
   "execution_count": 94,
   "metadata": {},
   "outputs": [],
   "source": [
    "tabla.to_excel(\"Tabla_predicciones.xlsx\") "
   ]
  },
  {
   "cell_type": "code",
   "execution_count": 95,
   "metadata": {},
   "outputs": [
    {
     "data": {
      "text/html": [
       "<div>\n",
       "<style scoped>\n",
       "    .dataframe tbody tr th:only-of-type {\n",
       "        vertical-align: middle;\n",
       "    }\n",
       "\n",
       "    .dataframe tbody tr th {\n",
       "        vertical-align: top;\n",
       "    }\n",
       "\n",
       "    .dataframe thead th {\n",
       "        text-align: right;\n",
       "    }\n",
       "</style>\n",
       "<table border=\"1\" class=\"dataframe\">\n",
       "  <thead>\n",
       "    <tr style=\"text-align: right;\">\n",
       "      <th></th>\n",
       "      <th>sid</th>\n",
       "      <th>hour</th>\n",
       "      <th>termicSensation_origin</th>\n",
       "      <th>termicSensation_destination</th>\n",
       "      <th>transport_mode</th>\n",
       "      <th>distance</th>\n",
       "      <th>price</th>\n",
       "      <th>eta</th>\n",
       "      <th>min_distance</th>\n",
       "      <th>min_price</th>\n",
       "      <th>...</th>\n",
       "      <th>trans_3</th>\n",
       "      <th>trans_4</th>\n",
       "      <th>trans_5</th>\n",
       "      <th>trans_6</th>\n",
       "      <th>trans_7</th>\n",
       "      <th>trans_8</th>\n",
       "      <th>trans_9</th>\n",
       "      <th>trans_10</th>\n",
       "      <th>trans_11</th>\n",
       "      <th>Y_pred</th>\n",
       "    </tr>\n",
       "  </thead>\n",
       "  <tbody>\n",
       "    <tr>\n",
       "      <th>0</th>\n",
       "      <td>2664861</td>\n",
       "      <td>19</td>\n",
       "      <td>47.96</td>\n",
       "      <td>47.44</td>\n",
       "      <td>7</td>\n",
       "      <td>127369</td>\n",
       "      <td>2800</td>\n",
       "      <td>15046</td>\n",
       "      <td>125993</td>\n",
       "      <td>0</td>\n",
       "      <td>...</td>\n",
       "      <td>0</td>\n",
       "      <td>0</td>\n",
       "      <td>0</td>\n",
       "      <td>0</td>\n",
       "      <td>1</td>\n",
       "      <td>0</td>\n",
       "      <td>0</td>\n",
       "      <td>0</td>\n",
       "      <td>0</td>\n",
       "      <td>1</td>\n",
       "    </tr>\n",
       "    <tr>\n",
       "      <th>1</th>\n",
       "      <td>756833</td>\n",
       "      <td>7</td>\n",
       "      <td>62.47</td>\n",
       "      <td>61.83</td>\n",
       "      <td>1</td>\n",
       "      <td>102346</td>\n",
       "      <td>2300</td>\n",
       "      <td>15642</td>\n",
       "      <td>100860</td>\n",
       "      <td>0</td>\n",
       "      <td>...</td>\n",
       "      <td>0</td>\n",
       "      <td>0</td>\n",
       "      <td>0</td>\n",
       "      <td>0</td>\n",
       "      <td>0</td>\n",
       "      <td>0</td>\n",
       "      <td>0</td>\n",
       "      <td>0</td>\n",
       "      <td>0</td>\n",
       "      <td>0</td>\n",
       "    </tr>\n",
       "    <tr>\n",
       "      <th>2</th>\n",
       "      <td>737238</td>\n",
       "      <td>13</td>\n",
       "      <td>78.22</td>\n",
       "      <td>78.05</td>\n",
       "      <td>4</td>\n",
       "      <td>158273</td>\n",
       "      <td>53600</td>\n",
       "      <td>8971</td>\n",
       "      <td>158273</td>\n",
       "      <td>0</td>\n",
       "      <td>...</td>\n",
       "      <td>0</td>\n",
       "      <td>1</td>\n",
       "      <td>0</td>\n",
       "      <td>0</td>\n",
       "      <td>0</td>\n",
       "      <td>0</td>\n",
       "      <td>0</td>\n",
       "      <td>0</td>\n",
       "      <td>0</td>\n",
       "      <td>0</td>\n",
       "    </tr>\n",
       "    <tr>\n",
       "      <th>3</th>\n",
       "      <td>737238</td>\n",
       "      <td>13</td>\n",
       "      <td>78.22</td>\n",
       "      <td>78.05</td>\n",
       "      <td>1</td>\n",
       "      <td>175912</td>\n",
       "      <td>3800</td>\n",
       "      <td>23182</td>\n",
       "      <td>158273</td>\n",
       "      <td>0</td>\n",
       "      <td>...</td>\n",
       "      <td>0</td>\n",
       "      <td>0</td>\n",
       "      <td>0</td>\n",
       "      <td>0</td>\n",
       "      <td>0</td>\n",
       "      <td>0</td>\n",
       "      <td>0</td>\n",
       "      <td>0</td>\n",
       "      <td>0</td>\n",
       "      <td>0</td>\n",
       "    </tr>\n",
       "    <tr>\n",
       "      <th>4</th>\n",
       "      <td>720980</td>\n",
       "      <td>13</td>\n",
       "      <td>78.57</td>\n",
       "      <td>78.05</td>\n",
       "      <td>3</td>\n",
       "      <td>107840</td>\n",
       "      <td>0</td>\n",
       "      <td>8024</td>\n",
       "      <td>105022</td>\n",
       "      <td>0</td>\n",
       "      <td>...</td>\n",
       "      <td>1</td>\n",
       "      <td>0</td>\n",
       "      <td>0</td>\n",
       "      <td>0</td>\n",
       "      <td>0</td>\n",
       "      <td>0</td>\n",
       "      <td>0</td>\n",
       "      <td>0</td>\n",
       "      <td>0</td>\n",
       "      <td>0</td>\n",
       "    </tr>\n",
       "  </tbody>\n",
       "</table>\n",
       "<p>5 rows × 26 columns</p>\n",
       "</div>"
      ],
      "text/plain": [
       "       sid  hour  termicSensation_origin  termicSensation_destination  \\\n",
       "0  2664861    19                   47.96                        47.44   \n",
       "1   756833     7                   62.47                        61.83   \n",
       "2   737238    13                   78.22                        78.05   \n",
       "3   737238    13                   78.22                        78.05   \n",
       "4   720980    13                   78.57                        78.05   \n",
       "\n",
       "   transport_mode  distance  price    eta  min_distance  min_price   ...    \\\n",
       "0               7    127369   2800  15046        125993          0   ...     \n",
       "1               1    102346   2300  15642        100860          0   ...     \n",
       "2               4    158273  53600   8971        158273          0   ...     \n",
       "3               1    175912   3800  23182        158273          0   ...     \n",
       "4               3    107840      0   8024        105022          0   ...     \n",
       "\n",
       "   trans_3  trans_4  trans_5  trans_6  trans_7  trans_8  trans_9  trans_10  \\\n",
       "0        0        0        0        0        1        0        0         0   \n",
       "1        0        0        0        0        0        0        0         0   \n",
       "2        0        1        0        0        0        0        0         0   \n",
       "3        0        0        0        0        0        0        0         0   \n",
       "4        1        0        0        0        0        0        0         0   \n",
       "\n",
       "   trans_11  Y_pred  \n",
       "0         0       1  \n",
       "1         0       0  \n",
       "2         0       0  \n",
       "3         0       0  \n",
       "4         0       0  \n",
       "\n",
       "[5 rows x 26 columns]"
      ]
     },
     "execution_count": 95,
     "metadata": {},
     "output_type": "execute_result"
    }
   ],
   "source": [
    "tabla.head()"
   ]
  },
  {
   "cell_type": "code",
   "execution_count": null,
   "metadata": {},
   "outputs": [],
   "source": []
  }
 ],
 "metadata": {
  "kernelspec": {
   "display_name": "Python 3",
   "language": "python",
   "name": "python3"
  },
  "language_info": {
   "codemirror_mode": {
    "name": "ipython",
    "version": 3
   },
   "file_extension": ".py",
   "mimetype": "text/x-python",
   "name": "python",
   "nbconvert_exporter": "python",
   "pygments_lexer": "ipython3",
   "version": "3.7.2"
  }
 },
 "nbformat": 4,
 "nbformat_minor": 2
}
