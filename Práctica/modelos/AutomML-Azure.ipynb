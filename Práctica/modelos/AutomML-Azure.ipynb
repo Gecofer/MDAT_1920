{
 "cells": [
  {
   "cell_type": "markdown",
   "metadata": {},
   "source": [
    "# AutoML - Azure"
   ]
  },
  {
   "cell_type": "code",
   "execution_count": 35,
   "metadata": {},
   "outputs": [],
   "source": [
    "import joblib\n",
    "import azureml.train.automl"
   ]
  },
  {
   "cell_type": "code",
   "execution_count": 36,
   "metadata": {},
   "outputs": [],
   "source": [
    "filename = 'AutoML9f3c2ceeb45/model_AutoML9f3c2ceeb45.pkl'\n",
    "model_path = Model.get_model_path(model_name = 'AutoML9f3c2ceeb45/model_AutoML9f3c2ceeb45.pkl')\n",
    "model = joblib.load(model_path)"
   ]
  },
  {
   "cell_type": "code",
   "execution_count": 37,
   "metadata": {},
   "outputs": [
    {
     "data": {
      "text/plain": [
       "PipelineWithYTransformations(Pipeline={'memory': None, 'steps': [('datatransformer', DataTransformer(enable_dnn=None, enable_feature_sweeping=None,\n",
       "        feature_sweeping_config=None, feature_sweeping_timeout=None,\n",
       "        featurization_config=None, force_text_dnn=None,\n",
       "        is_cross_validation=None, is_onnx_compatible=Non...33333333333, 0.06666666666666667, 0.06666666666666667, 0.06666666666666667, 0.06666666666666667]))]},\n",
       "               y_transformer={}, y_transformer_name='LabelEncoder')"
      ]
     },
     "execution_count": 37,
     "metadata": {},
     "output_type": "execute_result"
    }
   ],
   "source": [
    "model"
   ]
  },
  {
   "cell_type": "code",
   "execution_count": 38,
   "metadata": {},
   "outputs": [],
   "source": [
    "import pandas as pd\n",
    "import numpy as np\n",
    "import matplotlib.pyplot as plt"
   ]
  },
  {
   "cell_type": "code",
   "execution_count": 39,
   "metadata": {},
   "outputs": [],
   "source": [
    "train_data = pd.read_excel('./datosPractica/Datos_Train80.xlsx')\n",
    "val_data = pd.read_excel('./datosPractica/Datos_Val20.xlsx')\n",
    "eval_data = pd.read_excel('./datosPractica/Datos_Eval.xlsx')"
   ]
  },
  {
   "cell_type": "code",
   "execution_count": 29,
   "metadata": {},
   "outputs": [
    {
     "data": {
      "text/html": [
       "<div>\n",
       "<style scoped>\n",
       "    .dataframe tbody tr th:only-of-type {\n",
       "        vertical-align: middle;\n",
       "    }\n",
       "\n",
       "    .dataframe tbody tr th {\n",
       "        vertical-align: top;\n",
       "    }\n",
       "\n",
       "    .dataframe thead th {\n",
       "        text-align: right;\n",
       "    }\n",
       "</style>\n",
       "<table border=\"1\" class=\"dataframe\">\n",
       "  <thead>\n",
       "    <tr style=\"text-align: right;\">\n",
       "      <th></th>\n",
       "      <th>sid</th>\n",
       "      <th>hour</th>\n",
       "      <th>termicSensation_origin</th>\n",
       "      <th>termicSensation_destination</th>\n",
       "      <th>transport_mode</th>\n",
       "      <th>distance</th>\n",
       "      <th>price</th>\n",
       "      <th>eta</th>\n",
       "      <th>min_distance</th>\n",
       "      <th>min_price</th>\n",
       "      <th>min_eta</th>\n",
       "      <th>binaryTarget</th>\n",
       "      <th>weekday_number</th>\n",
       "      <th>hora_punta</th>\n",
       "      <th>llovizna</th>\n",
       "      <th>is_train</th>\n",
       "    </tr>\n",
       "  </thead>\n",
       "  <tbody>\n",
       "    <tr>\n",
       "      <th>1</th>\n",
       "      <td>1000014</td>\n",
       "      <td>17</td>\n",
       "      <td>49.65</td>\n",
       "      <td>49.65</td>\n",
       "      <td>6</td>\n",
       "      <td>6158</td>\n",
       "      <td>0</td>\n",
       "      <td>1857</td>\n",
       "      <td>5736</td>\n",
       "      <td>0</td>\n",
       "      <td>1454</td>\n",
       "      <td>0</td>\n",
       "      <td>0</td>\n",
       "      <td>1</td>\n",
       "      <td>0</td>\n",
       "      <td>True</td>\n",
       "    </tr>\n",
       "    <tr>\n",
       "      <th>2</th>\n",
       "      <td>1000063</td>\n",
       "      <td>15</td>\n",
       "      <td>58.75</td>\n",
       "      <td>58.92</td>\n",
       "      <td>1</td>\n",
       "      <td>6644</td>\n",
       "      <td>200</td>\n",
       "      <td>2988</td>\n",
       "      <td>6404</td>\n",
       "      <td>0</td>\n",
       "      <td>1362</td>\n",
       "      <td>1</td>\n",
       "      <td>0</td>\n",
       "      <td>0</td>\n",
       "      <td>0</td>\n",
       "      <td>True</td>\n",
       "    </tr>\n",
       "    <tr>\n",
       "      <th>3</th>\n",
       "      <td>1000063</td>\n",
       "      <td>15</td>\n",
       "      <td>58.75</td>\n",
       "      <td>58.92</td>\n",
       "      <td>3</td>\n",
       "      <td>6663</td>\n",
       "      <td>0</td>\n",
       "      <td>1362</td>\n",
       "      <td>6404</td>\n",
       "      <td>0</td>\n",
       "      <td>1362</td>\n",
       "      <td>0</td>\n",
       "      <td>0</td>\n",
       "      <td>0</td>\n",
       "      <td>0</td>\n",
       "      <td>True</td>\n",
       "    </tr>\n",
       "    <tr>\n",
       "      <th>4</th>\n",
       "      <td>1000068</td>\n",
       "      <td>12</td>\n",
       "      <td>53.62</td>\n",
       "      <td>53.54</td>\n",
       "      <td>1</td>\n",
       "      <td>9842</td>\n",
       "      <td>200</td>\n",
       "      <td>3037</td>\n",
       "      <td>6614</td>\n",
       "      <td>0</td>\n",
       "      <td>877</td>\n",
       "      <td>0</td>\n",
       "      <td>0</td>\n",
       "      <td>0</td>\n",
       "      <td>0</td>\n",
       "      <td>True</td>\n",
       "    </tr>\n",
       "    <tr>\n",
       "      <th>5</th>\n",
       "      <td>1000068</td>\n",
       "      <td>12</td>\n",
       "      <td>53.62</td>\n",
       "      <td>53.54</td>\n",
       "      <td>3</td>\n",
       "      <td>8496</td>\n",
       "      <td>0</td>\n",
       "      <td>877</td>\n",
       "      <td>6614</td>\n",
       "      <td>0</td>\n",
       "      <td>877</td>\n",
       "      <td>1</td>\n",
       "      <td>0</td>\n",
       "      <td>0</td>\n",
       "      <td>0</td>\n",
       "      <td>True</td>\n",
       "    </tr>\n",
       "  </tbody>\n",
       "</table>\n",
       "</div>"
      ],
      "text/plain": [
       "       sid  hour  termicSensation_origin  termicSensation_destination  \\\n",
       "1  1000014    17                   49.65                        49.65   \n",
       "2  1000063    15                   58.75                        58.92   \n",
       "3  1000063    15                   58.75                        58.92   \n",
       "4  1000068    12                   53.62                        53.54   \n",
       "5  1000068    12                   53.62                        53.54   \n",
       "\n",
       "   transport_mode  distance  price   eta  min_distance  min_price  min_eta  \\\n",
       "1               6      6158      0  1857          5736          0     1454   \n",
       "2               1      6644    200  2988          6404          0     1362   \n",
       "3               3      6663      0  1362          6404          0     1362   \n",
       "4               1      9842    200  3037          6614          0      877   \n",
       "5               3      8496      0   877          6614          0      877   \n",
       "\n",
       "   binaryTarget  weekday_number  hora_punta  llovizna  is_train  \n",
       "1             0               0           1         0      True  \n",
       "2             1               0           0         0      True  \n",
       "3             0               0           0         0      True  \n",
       "4             0               0           0         0      True  \n",
       "5             1               0           0         0      True  "
      ]
     },
     "execution_count": 29,
     "metadata": {},
     "output_type": "execute_result"
    }
   ],
   "source": [
    "train_data.head()"
   ]
  },
  {
   "cell_type": "code",
   "execution_count": 30,
   "metadata": {},
   "outputs": [],
   "source": [
    "# Eliminar columna \"is_train\"\n",
    "train_data.drop(labels=\"is_train\", axis=1, inplace=True)\n",
    "val_data.drop(labels=\"is_train\", axis=1, inplace=True)"
   ]
  },
  {
   "cell_type": "code",
   "execution_count": 31,
   "metadata": {},
   "outputs": [],
   "source": [
    "# Eliminar columna \"sid\"\n",
    "train_data.drop(labels=\"sid\", axis=1, inplace=True)\n",
    "val_data.drop(labels=\"sid\", axis=1, inplace=True)\n",
    "eval_data.drop(labels=\"sid\", axis=1, inplace=True)"
   ]
  },
  {
   "cell_type": "code",
   "execution_count": 32,
   "metadata": {},
   "outputs": [],
   "source": [
    "# Cogemos la columna \"binaryTarget\"\n",
    "y_train = train_data[\"binaryTarget\"]\n",
    "y_val = val_data[\"binaryTarget\"]\n",
    "\n",
    "# Eliminamos la columna \"binaryTarget\"\n",
    "X_train = train_data.drop(labels=\"binaryTarget\", axis=1, inplace=True)\n",
    "X_val = val_data.drop(labels=\"binaryTarget\", axis=1, inplace=True)\n",
    "\n",
    "X_train = train_data\n",
    "X_val = val_data"
   ]
  },
  {
   "cell_type": "code",
   "execution_count": 34,
   "metadata": {},
   "outputs": [
    {
     "name": "stdout",
     "output_type": "stream",
     "text": [
      "0.8352227069222822\n"
     ]
    }
   ],
   "source": [
    "result = model.score(X_val, y_val)\n",
    "print(result)"
   ]
  }
 ],
 "metadata": {
  "kernelspec": {
   "display_name": "Python 3",
   "language": "python",
   "name": "python3"
  },
  "language_info": {
   "codemirror_mode": {
    "name": "ipython",
    "version": 3
   },
   "file_extension": ".py",
   "mimetype": "text/x-python",
   "name": "python",
   "nbconvert_exporter": "python",
   "pygments_lexer": "ipython3",
   "version": "3.7.3"
  }
 },
 "nbformat": 4,
 "nbformat_minor": 2
}
