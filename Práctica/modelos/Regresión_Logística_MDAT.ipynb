{
  "nbformat": 4,
  "nbformat_minor": 0,
  "metadata": {
    "colab": {
      "name": "Regresión_Logística_MDAT.ipynb",
      "provenance": []
    },
    "kernelspec": {
      "name": "python3",
      "display_name": "Python 3"
    }
  },
  "cells": [
    {
      "cell_type": "code",
      "metadata": {
        "id": "ucI_m8Ben2AV",
        "colab_type": "code",
        "colab": {}
      },
      "source": [
        "import pandas as pd\n",
        "import numpy as np\n",
        "from sklearn import linear_model\n",
        "from sklearn import model_selection\n",
        "from sklearn.metrics import classification_report\n",
        "from sklearn.metrics import confusion_matrix\n",
        "from sklearn.metrics import accuracy_score\n",
        "import matplotlib.pyplot as plt\n",
        "import seaborn as sb\n",
        "%matplotlib inline\n",
        "from sklearn.model_selection import train_test_split"
      ],
      "execution_count": 0,
      "outputs": []
    },
    {
      "cell_type": "code",
      "metadata": {
        "id": "qfwBmRIvj4A-",
        "colab_type": "code",
        "colab": {}
      },
      "source": [
        "data = pd.read_sas('/content/tablatransportestrain.sas7bdat',format='sas7bdat')\n",
        "data_train, data_val = train_test_split(data, test_size=0.2)"
      ],
      "execution_count": 0,
      "outputs": []
    },
    {
      "cell_type": "code",
      "metadata": {
        "id": "z1ntxWRrle39",
        "colab_type": "code",
        "colab": {}
      },
      "source": [
        "data_train = data_train.drop(columns='sid')\n",
        "data_val = data_val.drop(columns='sid')\n",
        "data_train['binaryTarget'] = data_train['binaryTarget'].apply(lambda x: int(x))\n",
        "data_train['transport_mode'] = data_train['transport_mode'].apply(lambda x: int(x))\n",
        "data_train['hour'] = data_train['hour'].apply(lambda x: int(x))\n",
        "data_val['binaryTarget'] = data_val['binaryTarget'].apply(lambda x: int(x))\n",
        "data_val['transport_mode'] = data_val['transport_mode'].apply(lambda x: int(x))\n",
        "data_val['hour'] = data_val['hour'].apply(lambda x: int(x))"
      ],
      "execution_count": 0,
      "outputs": []
    },
    {
      "cell_type": "code",
      "metadata": {
        "id": "D1vsrw8qmUZD",
        "colab_type": "code",
        "colab": {}
      },
      "source": [
        "data_train['weekday_number'] = data_train['date'].dt.dayofweek\n",
        "data_val['weekday_number'] = data_val['date'].dt.dayofweek"
      ],
      "execution_count": 0,
      "outputs": []
    },
    {
      "cell_type": "code",
      "metadata": {
        "id": "VAOGJk5Am3s3",
        "colab_type": "code",
        "colab": {}
      },
      "source": [
        "data_train['laboral'] = data_train['weekday_number'] \n",
        "data_train.loc[data_train['laboral'] == 0, 'laboral'] = 'Si'\n",
        "data_train.loc[data_train['laboral'] == 1, 'laboral'] = 'Si'\n",
        "data_train.loc[data_train['laboral'] == 2, 'laboral'] = 'Si'\n",
        "data_train.loc[data_train['laboral'] == 3, 'laboral'] = 'Si'\n",
        "data_train.loc[data_train['laboral'] == 4, 'laboral'] = 'Si'\n",
        "data_train.loc[data_train['laboral'] == 5, 'laboral'] = 'No'\n",
        "data_train.loc[data_train['laboral'] == 6, 'laboral'] = 'No'\n",
        "\n",
        "data_val['laboral'] = data_val['weekday_number'] \n",
        "data_val.loc[data_val['laboral'] == 0, 'laboral'] = 'Si'\n",
        "data_val.loc[data_val['laboral'] == 1, 'laboral'] = 'Si'\n",
        "data_val.loc[data_val['laboral'] == 2, 'laboral'] = 'Si'\n",
        "data_val.loc[data_val['laboral'] == 3, 'laboral'] = 'Si'\n",
        "data_val.loc[data_val['laboral'] == 4, 'laboral'] = 'Si'\n",
        "data_val.loc[data_val['laboral'] == 5, 'laboral'] = 'No'\n",
        "data_val.loc[data_val['laboral'] == 6, 'laboral'] = 'No'"
      ],
      "execution_count": 0,
      "outputs": []
    },
    {
      "cell_type": "code",
      "metadata": {
        "id": "lEmWdpsAn7PY",
        "colab_type": "code",
        "colab": {}
      },
      "source": [
        "data_train['hora_punta'] = 0\n",
        "index = data_train.loc[(data_train['hour']==7.) | (data_train['hour']==8.) | (data_train['hour']==9.) | (data_train['hour']==17.) | (data_train['hour']==18.) | (data_train['hour']==19.)].index\n",
        "data_train.loc[index,'hora_punta'] = 1\n",
        "\n",
        "\n",
        "data_val['hora_punta'] = 0\n",
        "index = data_val.loc[(data_val['hour']==7.) | (data_val['hour']==8.) | (data_val['hour']==9.) | (data_val['hour']==17.) | (data_val['hour']==18.) | (data['hour']==19.)].index\n",
        "data_val.loc[index,'hora_punta'] = 1"
      ],
      "execution_count": 0,
      "outputs": []
    },
    {
      "cell_type": "code",
      "metadata": {
        "id": "kL88AFeWoFAq",
        "colab_type": "code",
        "colab": {}
      },
      "source": [
        "data_train['llovizna'] = 0\n",
        "index = data_train.loc[(data_train['date']=='2018-10-08') |\n",
        "         (data_train['date']=='2018-10-15') |\n",
        "         (data_train['date']=='2018-10-16') |\n",
        "         (data_train['date']=='2018-10-22') |\n",
        "         (data_train['date']=='2018-10-25') |\n",
        "         (data_train['date']=='2018-11-03') |\n",
        "         (data_train['date']=='2018-11-04')].index\n",
        "\n",
        "data_train.loc[index,'llovizna'] = 1\n",
        "\n",
        "data_val['llovizna'] = 0\n",
        "index = data_val.loc[(data_val['date']=='2018-10-08') |\n",
        "         (data_val['date']=='2018-10-15') |\n",
        "         (data_val['date']=='2018-10-16') |\n",
        "         (data_val['date']=='2018-10-22') |\n",
        "         (data_val['date']=='2018-10-25') |\n",
        "         (data_val['date']=='2018-11-03') |\n",
        "         (data_val['date']=='2018-11-04')].index\n",
        "\n",
        "data_val.loc[index,'llovizna'] = 1\n"
      ],
      "execution_count": 0,
      "outputs": []
    },
    {
      "cell_type": "code",
      "metadata": {
        "id": "Z7noEUmsoe4O",
        "colab_type": "code",
        "colab": {}
      },
      "source": [
        "train_target = data_train['binaryTarget']\n",
        "val_target = data_val['binaryTarget']\n",
        "\n",
        "data_train = data_train.drop(columns='binaryTarget')\n",
        "data_val = data_val.drop(columns='binaryTarget')\n",
        "\n",
        "data_train['binaryTarget'] = train_target\n",
        "data_val['binaryTarget'] = val_target"
      ],
      "execution_count": 0,
      "outputs": []
    },
    {
      "cell_type": "code",
      "metadata": {
        "id": "wMQvuFUCo0qm",
        "colab_type": "code",
        "colab": {}
      },
      "source": [
        "data_train.loc[data_train['laboral'] == 'Si','laboral'] = 1\n",
        "data_train.loc[data_train['laboral'] == 'No','laboral'] = 0\n",
        "data_val.loc[data_val['laboral'] == 'Si','laboral'] = 1\n",
        "data_val.loc[data_val['laboral'] == 'No','laboral'] = 0"
      ],
      "execution_count": 0,
      "outputs": []
    },
    {
      "cell_type": "code",
      "metadata": {
        "id": "1BTvg3hmo4Ig",
        "colab_type": "code",
        "outputId": "e4fc4a79-4d2e-41ee-d17b-ece6c1f2b997",
        "colab": {
          "base_uri": "https://localhost:8080/",
          "height": 609
        }
      },
      "source": [
        "data_val"
      ],
      "execution_count": 0,
      "outputs": [
        {
          "output_type": "execute_result",
          "data": {
            "text/html": [
              "<div>\n",
              "<style scoped>\n",
              "    .dataframe tbody tr th:only-of-type {\n",
              "        vertical-align: middle;\n",
              "    }\n",
              "\n",
              "    .dataframe tbody tr th {\n",
              "        vertical-align: top;\n",
              "    }\n",
              "\n",
              "    .dataframe thead th {\n",
              "        text-align: right;\n",
              "    }\n",
              "</style>\n",
              "<table border=\"1\" class=\"dataframe\">\n",
              "  <thead>\n",
              "    <tr style=\"text-align: right;\">\n",
              "      <th></th>\n",
              "      <th>date</th>\n",
              "      <th>hour</th>\n",
              "      <th>x_origin_0</th>\n",
              "      <th>y_origin_0</th>\n",
              "      <th>termicSensation_origin</th>\n",
              "      <th>x_destination_0</th>\n",
              "      <th>y_destination_0</th>\n",
              "      <th>termicSensation_destination</th>\n",
              "      <th>transport_mode</th>\n",
              "      <th>distance</th>\n",
              "      <th>price</th>\n",
              "      <th>eta</th>\n",
              "      <th>min_distance</th>\n",
              "      <th>min_price</th>\n",
              "      <th>min_eta</th>\n",
              "      <th>weekday_number</th>\n",
              "      <th>laboral</th>\n",
              "      <th>hora_punta</th>\n",
              "      <th>llovizna</th>\n",
              "      <th>binaryTarget</th>\n",
              "    </tr>\n",
              "  </thead>\n",
              "  <tbody>\n",
              "    <tr>\n",
              "      <th>213441</th>\n",
              "      <td>2018-10-06</td>\n",
              "      <td>13</td>\n",
              "      <td>116.34</td>\n",
              "      <td>39.93</td>\n",
              "      <td>69.47</td>\n",
              "      <td>116.33</td>\n",
              "      <td>39.94</td>\n",
              "      <td>69.47</td>\n",
              "      <td>5</td>\n",
              "      <td>1119.0</td>\n",
              "      <td>0.0</td>\n",
              "      <td>987.0</td>\n",
              "      <td>1119.0</td>\n",
              "      <td>0.0</td>\n",
              "      <td>370.0</td>\n",
              "      <td>5</td>\n",
              "      <td>No</td>\n",
              "      <td>0</td>\n",
              "      <td>0</td>\n",
              "      <td>1</td>\n",
              "    </tr>\n",
              "    <tr>\n",
              "      <th>315420</th>\n",
              "      <td>2018-10-01</td>\n",
              "      <td>8</td>\n",
              "      <td>116.37</td>\n",
              "      <td>39.90</td>\n",
              "      <td>65.87</td>\n",
              "      <td>116.39</td>\n",
              "      <td>39.90</td>\n",
              "      <td>65.87</td>\n",
              "      <td>1</td>\n",
              "      <td>2448.0</td>\n",
              "      <td>200.0</td>\n",
              "      <td>1786.0</td>\n",
              "      <td>2207.0</td>\n",
              "      <td>0.0</td>\n",
              "      <td>562.0</td>\n",
              "      <td>0</td>\n",
              "      <td>Si</td>\n",
              "      <td>1</td>\n",
              "      <td>0</td>\n",
              "      <td>1</td>\n",
              "    </tr>\n",
              "    <tr>\n",
              "      <th>251183</th>\n",
              "      <td>2018-11-25</td>\n",
              "      <td>12</td>\n",
              "      <td>116.12</td>\n",
              "      <td>40.26</td>\n",
              "      <td>53.01</td>\n",
              "      <td>116.41</td>\n",
              "      <td>39.97</td>\n",
              "      <td>53.35</td>\n",
              "      <td>1</td>\n",
              "      <td>45974.0</td>\n",
              "      <td>1300.0</td>\n",
              "      <td>8530.0</td>\n",
              "      <td>45974.0</td>\n",
              "      <td>0.0</td>\n",
              "      <td>3689.0</td>\n",
              "      <td>6</td>\n",
              "      <td>No</td>\n",
              "      <td>0</td>\n",
              "      <td>0</td>\n",
              "      <td>1</td>\n",
              "    </tr>\n",
              "    <tr>\n",
              "      <th>52066</th>\n",
              "      <td>2018-10-03</td>\n",
              "      <td>18</td>\n",
              "      <td>116.34</td>\n",
              "      <td>40.09</td>\n",
              "      <td>62.40</td>\n",
              "      <td>116.37</td>\n",
              "      <td>39.86</td>\n",
              "      <td>62.39</td>\n",
              "      <td>4</td>\n",
              "      <td>37717.0</td>\n",
              "      <td>10300.0</td>\n",
              "      <td>4295.0</td>\n",
              "      <td>33680.0</td>\n",
              "      <td>0.0</td>\n",
              "      <td>4055.0</td>\n",
              "      <td>2</td>\n",
              "      <td>Si</td>\n",
              "      <td>1</td>\n",
              "      <td>0</td>\n",
              "      <td>0</td>\n",
              "    </tr>\n",
              "    <tr>\n",
              "      <th>241505</th>\n",
              "      <td>2018-11-21</td>\n",
              "      <td>14</td>\n",
              "      <td>116.39</td>\n",
              "      <td>39.92</td>\n",
              "      <td>39.61</td>\n",
              "      <td>116.39</td>\n",
              "      <td>39.91</td>\n",
              "      <td>39.61</td>\n",
              "      <td>1</td>\n",
              "      <td>3913.0</td>\n",
              "      <td>1500.0</td>\n",
              "      <td>2807.0</td>\n",
              "      <td>2501.0</td>\n",
              "      <td>0.0</td>\n",
              "      <td>904.0</td>\n",
              "      <td>2</td>\n",
              "      <td>Si</td>\n",
              "      <td>0</td>\n",
              "      <td>0</td>\n",
              "      <td>0</td>\n",
              "    </tr>\n",
              "    <tr>\n",
              "      <th>...</th>\n",
              "      <td>...</td>\n",
              "      <td>...</td>\n",
              "      <td>...</td>\n",
              "      <td>...</td>\n",
              "      <td>...</td>\n",
              "      <td>...</td>\n",
              "      <td>...</td>\n",
              "      <td>...</td>\n",
              "      <td>...</td>\n",
              "      <td>...</td>\n",
              "      <td>...</td>\n",
              "      <td>...</td>\n",
              "      <td>...</td>\n",
              "      <td>...</td>\n",
              "      <td>...</td>\n",
              "      <td>...</td>\n",
              "      <td>...</td>\n",
              "      <td>...</td>\n",
              "      <td>...</td>\n",
              "      <td>...</td>\n",
              "    </tr>\n",
              "    <tr>\n",
              "      <th>76990</th>\n",
              "      <td>2018-11-29</td>\n",
              "      <td>18</td>\n",
              "      <td>116.48</td>\n",
              "      <td>39.90</td>\n",
              "      <td>33.54</td>\n",
              "      <td>116.49</td>\n",
              "      <td>39.92</td>\n",
              "      <td>33.54</td>\n",
              "      <td>5</td>\n",
              "      <td>2490.0</td>\n",
              "      <td>0.0</td>\n",
              "      <td>2158.0</td>\n",
              "      <td>2490.0</td>\n",
              "      <td>0.0</td>\n",
              "      <td>805.0</td>\n",
              "      <td>3</td>\n",
              "      <td>Si</td>\n",
              "      <td>1</td>\n",
              "      <td>0</td>\n",
              "      <td>0</td>\n",
              "    </tr>\n",
              "    <tr>\n",
              "      <th>129812</th>\n",
              "      <td>2018-10-13</td>\n",
              "      <td>16</td>\n",
              "      <td>116.35</td>\n",
              "      <td>39.99</td>\n",
              "      <td>65.87</td>\n",
              "      <td>116.35</td>\n",
              "      <td>39.97</td>\n",
              "      <td>65.87</td>\n",
              "      <td>1</td>\n",
              "      <td>4663.0</td>\n",
              "      <td>200.0</td>\n",
              "      <td>2626.0</td>\n",
              "      <td>2218.0</td>\n",
              "      <td>0.0</td>\n",
              "      <td>645.0</td>\n",
              "      <td>5</td>\n",
              "      <td>No</td>\n",
              "      <td>0</td>\n",
              "      <td>0</td>\n",
              "      <td>1</td>\n",
              "    </tr>\n",
              "    <tr>\n",
              "      <th>122743</th>\n",
              "      <td>2018-11-20</td>\n",
              "      <td>7</td>\n",
              "      <td>116.29</td>\n",
              "      <td>40.09</td>\n",
              "      <td>21.06</td>\n",
              "      <td>116.22</td>\n",
              "      <td>39.95</td>\n",
              "      <td>21.40</td>\n",
              "      <td>3</td>\n",
              "      <td>26333.0</td>\n",
              "      <td>0.0</td>\n",
              "      <td>2229.0</td>\n",
              "      <td>26333.0</td>\n",
              "      <td>0.0</td>\n",
              "      <td>2229.0</td>\n",
              "      <td>1</td>\n",
              "      <td>Si</td>\n",
              "      <td>1</td>\n",
              "      <td>0</td>\n",
              "      <td>0</td>\n",
              "    </tr>\n",
              "    <tr>\n",
              "      <th>303138</th>\n",
              "      <td>2018-10-28</td>\n",
              "      <td>19</td>\n",
              "      <td>116.28</td>\n",
              "      <td>39.96</td>\n",
              "      <td>56.68</td>\n",
              "      <td>116.20</td>\n",
              "      <td>39.97</td>\n",
              "      <td>56.68</td>\n",
              "      <td>3</td>\n",
              "      <td>9548.0</td>\n",
              "      <td>0.0</td>\n",
              "      <td>1420.0</td>\n",
              "      <td>8687.0</td>\n",
              "      <td>0.0</td>\n",
              "      <td>1420.0</td>\n",
              "      <td>6</td>\n",
              "      <td>No</td>\n",
              "      <td>1</td>\n",
              "      <td>0</td>\n",
              "      <td>0</td>\n",
              "    </tr>\n",
              "    <tr>\n",
              "      <th>176442</th>\n",
              "      <td>2018-10-12</td>\n",
              "      <td>8</td>\n",
              "      <td>116.47</td>\n",
              "      <td>39.89</td>\n",
              "      <td>44.21</td>\n",
              "      <td>116.46</td>\n",
              "      <td>39.94</td>\n",
              "      <td>44.07</td>\n",
              "      <td>1</td>\n",
              "      <td>6791.0</td>\n",
              "      <td>1200.0</td>\n",
              "      <td>3646.0</td>\n",
              "      <td>6187.0</td>\n",
              "      <td>0.0</td>\n",
              "      <td>1640.0</td>\n",
              "      <td>4</td>\n",
              "      <td>Si</td>\n",
              "      <td>1</td>\n",
              "      <td>0</td>\n",
              "      <td>0</td>\n",
              "    </tr>\n",
              "  </tbody>\n",
              "</table>\n",
              "<p>69645 rows × 20 columns</p>\n",
              "</div>"
            ],
            "text/plain": [
              "             date  hour  x_origin_0  ...  hora_punta  llovizna  binaryTarget\n",
              "213441 2018-10-06    13      116.34  ...           0         0             1\n",
              "315420 2018-10-01     8      116.37  ...           1         0             1\n",
              "251183 2018-11-25    12      116.12  ...           0         0             1\n",
              "52066  2018-10-03    18      116.34  ...           1         0             0\n",
              "241505 2018-11-21    14      116.39  ...           0         0             0\n",
              "...           ...   ...         ...  ...         ...       ...           ...\n",
              "76990  2018-11-29    18      116.48  ...           1         0             0\n",
              "129812 2018-10-13    16      116.35  ...           0         0             1\n",
              "122743 2018-11-20     7      116.29  ...           1         0             0\n",
              "303138 2018-10-28    19      116.28  ...           1         0             0\n",
              "176442 2018-10-12     8      116.47  ...           1         0             0\n",
              "\n",
              "[69645 rows x 20 columns]"
            ]
          },
          "metadata": {
            "tags": []
          },
          "execution_count": 18
        }
      ]
    },
    {
      "cell_type": "code",
      "metadata": {
        "id": "5RK3KKCupViO",
        "colab_type": "code",
        "outputId": "a2c55162-012c-44cf-c254-10a95cfb0f4d",
        "colab": {
          "base_uri": "https://localhost:8080/",
          "height": 34
        }
      },
      "source": [
        "len(data_train.columns)"
      ],
      "execution_count": 0,
      "outputs": [
        {
          "output_type": "execute_result",
          "data": {
            "text/plain": [
              "20"
            ]
          },
          "metadata": {
            "tags": []
          },
          "execution_count": 23
        }
      ]
    },
    {
      "cell_type": "code",
      "metadata": {
        "id": "X44fmayBpkKB",
        "colab_type": "code",
        "colab": {}
      },
      "source": [
        "train_exp = data_train.iloc[:,1:18]\n",
        "train_target = data_train['binaryTarget']\n",
        "val_exp = data_val.iloc[:,1:18]\n",
        "val_target = data_val['binaryTarget']"
      ],
      "execution_count": 0,
      "outputs": []
    },
    {
      "cell_type": "markdown",
      "metadata": {
        "id": "nLCYLTz1pD6N",
        "colab_type": "text"
      },
      "source": [
        "# PCA"
      ]
    },
    {
      "cell_type": "code",
      "metadata": {
        "id": "Pca1XIG3rB_8",
        "colab_type": "code",
        "colab": {}
      },
      "source": [
        ""
      ],
      "execution_count": 0,
      "outputs": []
    },
    {
      "cell_type": "markdown",
      "metadata": {
        "id": "Xu8nfZTfo_3C",
        "colab_type": "text"
      },
      "source": [
        "# Otro"
      ]
    },
    {
      "cell_type": "code",
      "metadata": {
        "id": "GLZhJmf-oCRX",
        "colab_type": "code",
        "outputId": "79c55395-b84b-4284-cc33-0f962239ce72",
        "colab": {
          "base_uri": "https://localhost:8080/",
          "height": 392
        }
      },
      "source": [
        "data_train = pd.read_csv('/content/Datos_Train80.csv',sep=';')\n",
        "data_val = pd.read_csv('/content/Datos_Val20.csv',sep=';')"
      ],
      "execution_count": 0,
      "outputs": [
        {
          "output_type": "error",
          "ename": "FileNotFoundError",
          "evalue": "ignored",
          "traceback": [
            "\u001b[0;31m---------------------------------------------------------------------------\u001b[0m",
            "\u001b[0;31mFileNotFoundError\u001b[0m                         Traceback (most recent call last)",
            "\u001b[0;32m<ipython-input-51-9fb6aeea11e3>\u001b[0m in \u001b[0;36m<module>\u001b[0;34m()\u001b[0m\n\u001b[0;32m----> 1\u001b[0;31m \u001b[0mdata_train\u001b[0m \u001b[0;34m=\u001b[0m \u001b[0mpd\u001b[0m\u001b[0;34m.\u001b[0m\u001b[0mread_csv\u001b[0m\u001b[0;34m(\u001b[0m\u001b[0;34m'/content/Datos_Train80.csv'\u001b[0m\u001b[0;34m,\u001b[0m\u001b[0msep\u001b[0m\u001b[0;34m=\u001b[0m\u001b[0;34m';'\u001b[0m\u001b[0;34m)\u001b[0m\u001b[0;34m\u001b[0m\u001b[0;34m\u001b[0m\u001b[0m\n\u001b[0m\u001b[1;32m      2\u001b[0m \u001b[0mdata_val\u001b[0m \u001b[0;34m=\u001b[0m \u001b[0mpd\u001b[0m\u001b[0;34m.\u001b[0m\u001b[0mread_csv\u001b[0m\u001b[0;34m(\u001b[0m\u001b[0;34m'/content/Datos_Val20.csv'\u001b[0m\u001b[0;34m,\u001b[0m\u001b[0msep\u001b[0m\u001b[0;34m=\u001b[0m\u001b[0;34m';'\u001b[0m\u001b[0;34m)\u001b[0m\u001b[0;34m\u001b[0m\u001b[0;34m\u001b[0m\u001b[0m\n",
            "\u001b[0;32m/usr/local/lib/python3.6/dist-packages/pandas/io/parsers.py\u001b[0m in \u001b[0;36mparser_f\u001b[0;34m(filepath_or_buffer, sep, delimiter, header, names, index_col, usecols, squeeze, prefix, mangle_dupe_cols, dtype, engine, converters, true_values, false_values, skipinitialspace, skiprows, skipfooter, nrows, na_values, keep_default_na, na_filter, verbose, skip_blank_lines, parse_dates, infer_datetime_format, keep_date_col, date_parser, dayfirst, cache_dates, iterator, chunksize, compression, thousands, decimal, lineterminator, quotechar, quoting, doublequote, escapechar, comment, encoding, dialect, error_bad_lines, warn_bad_lines, delim_whitespace, low_memory, memory_map, float_precision)\u001b[0m\n\u001b[1;32m    683\u001b[0m         )\n\u001b[1;32m    684\u001b[0m \u001b[0;34m\u001b[0m\u001b[0m\n\u001b[0;32m--> 685\u001b[0;31m         \u001b[0;32mreturn\u001b[0m \u001b[0m_read\u001b[0m\u001b[0;34m(\u001b[0m\u001b[0mfilepath_or_buffer\u001b[0m\u001b[0;34m,\u001b[0m \u001b[0mkwds\u001b[0m\u001b[0;34m)\u001b[0m\u001b[0;34m\u001b[0m\u001b[0;34m\u001b[0m\u001b[0m\n\u001b[0m\u001b[1;32m    686\u001b[0m \u001b[0;34m\u001b[0m\u001b[0m\n\u001b[1;32m    687\u001b[0m     \u001b[0mparser_f\u001b[0m\u001b[0;34m.\u001b[0m\u001b[0m__name__\u001b[0m \u001b[0;34m=\u001b[0m \u001b[0mname\u001b[0m\u001b[0;34m\u001b[0m\u001b[0;34m\u001b[0m\u001b[0m\n",
            "\u001b[0;32m/usr/local/lib/python3.6/dist-packages/pandas/io/parsers.py\u001b[0m in \u001b[0;36m_read\u001b[0;34m(filepath_or_buffer, kwds)\u001b[0m\n\u001b[1;32m    455\u001b[0m \u001b[0;34m\u001b[0m\u001b[0m\n\u001b[1;32m    456\u001b[0m     \u001b[0;31m# Create the parser.\u001b[0m\u001b[0;34m\u001b[0m\u001b[0;34m\u001b[0m\u001b[0;34m\u001b[0m\u001b[0m\n\u001b[0;32m--> 457\u001b[0;31m     \u001b[0mparser\u001b[0m \u001b[0;34m=\u001b[0m \u001b[0mTextFileReader\u001b[0m\u001b[0;34m(\u001b[0m\u001b[0mfp_or_buf\u001b[0m\u001b[0;34m,\u001b[0m \u001b[0;34m**\u001b[0m\u001b[0mkwds\u001b[0m\u001b[0;34m)\u001b[0m\u001b[0;34m\u001b[0m\u001b[0;34m\u001b[0m\u001b[0m\n\u001b[0m\u001b[1;32m    458\u001b[0m \u001b[0;34m\u001b[0m\u001b[0m\n\u001b[1;32m    459\u001b[0m     \u001b[0;32mif\u001b[0m \u001b[0mchunksize\u001b[0m \u001b[0;32mor\u001b[0m \u001b[0miterator\u001b[0m\u001b[0;34m:\u001b[0m\u001b[0;34m\u001b[0m\u001b[0;34m\u001b[0m\u001b[0m\n",
            "\u001b[0;32m/usr/local/lib/python3.6/dist-packages/pandas/io/parsers.py\u001b[0m in \u001b[0;36m__init__\u001b[0;34m(self, f, engine, **kwds)\u001b[0m\n\u001b[1;32m    893\u001b[0m             \u001b[0mself\u001b[0m\u001b[0;34m.\u001b[0m\u001b[0moptions\u001b[0m\u001b[0;34m[\u001b[0m\u001b[0;34m\"has_index_names\"\u001b[0m\u001b[0;34m]\u001b[0m \u001b[0;34m=\u001b[0m \u001b[0mkwds\u001b[0m\u001b[0;34m[\u001b[0m\u001b[0;34m\"has_index_names\"\u001b[0m\u001b[0;34m]\u001b[0m\u001b[0;34m\u001b[0m\u001b[0;34m\u001b[0m\u001b[0m\n\u001b[1;32m    894\u001b[0m \u001b[0;34m\u001b[0m\u001b[0m\n\u001b[0;32m--> 895\u001b[0;31m         \u001b[0mself\u001b[0m\u001b[0;34m.\u001b[0m\u001b[0m_make_engine\u001b[0m\u001b[0;34m(\u001b[0m\u001b[0mself\u001b[0m\u001b[0;34m.\u001b[0m\u001b[0mengine\u001b[0m\u001b[0;34m)\u001b[0m\u001b[0;34m\u001b[0m\u001b[0;34m\u001b[0m\u001b[0m\n\u001b[0m\u001b[1;32m    896\u001b[0m \u001b[0;34m\u001b[0m\u001b[0m\n\u001b[1;32m    897\u001b[0m     \u001b[0;32mdef\u001b[0m \u001b[0mclose\u001b[0m\u001b[0;34m(\u001b[0m\u001b[0mself\u001b[0m\u001b[0;34m)\u001b[0m\u001b[0;34m:\u001b[0m\u001b[0;34m\u001b[0m\u001b[0;34m\u001b[0m\u001b[0m\n",
            "\u001b[0;32m/usr/local/lib/python3.6/dist-packages/pandas/io/parsers.py\u001b[0m in \u001b[0;36m_make_engine\u001b[0;34m(self, engine)\u001b[0m\n\u001b[1;32m   1133\u001b[0m     \u001b[0;32mdef\u001b[0m \u001b[0m_make_engine\u001b[0m\u001b[0;34m(\u001b[0m\u001b[0mself\u001b[0m\u001b[0;34m,\u001b[0m \u001b[0mengine\u001b[0m\u001b[0;34m=\u001b[0m\u001b[0;34m\"c\"\u001b[0m\u001b[0;34m)\u001b[0m\u001b[0;34m:\u001b[0m\u001b[0;34m\u001b[0m\u001b[0;34m\u001b[0m\u001b[0m\n\u001b[1;32m   1134\u001b[0m         \u001b[0;32mif\u001b[0m \u001b[0mengine\u001b[0m \u001b[0;34m==\u001b[0m \u001b[0;34m\"c\"\u001b[0m\u001b[0;34m:\u001b[0m\u001b[0;34m\u001b[0m\u001b[0;34m\u001b[0m\u001b[0m\n\u001b[0;32m-> 1135\u001b[0;31m             \u001b[0mself\u001b[0m\u001b[0;34m.\u001b[0m\u001b[0m_engine\u001b[0m \u001b[0;34m=\u001b[0m \u001b[0mCParserWrapper\u001b[0m\u001b[0;34m(\u001b[0m\u001b[0mself\u001b[0m\u001b[0;34m.\u001b[0m\u001b[0mf\u001b[0m\u001b[0;34m,\u001b[0m \u001b[0;34m**\u001b[0m\u001b[0mself\u001b[0m\u001b[0;34m.\u001b[0m\u001b[0moptions\u001b[0m\u001b[0;34m)\u001b[0m\u001b[0;34m\u001b[0m\u001b[0;34m\u001b[0m\u001b[0m\n\u001b[0m\u001b[1;32m   1136\u001b[0m         \u001b[0;32melse\u001b[0m\u001b[0;34m:\u001b[0m\u001b[0;34m\u001b[0m\u001b[0;34m\u001b[0m\u001b[0m\n\u001b[1;32m   1137\u001b[0m             \u001b[0;32mif\u001b[0m \u001b[0mengine\u001b[0m \u001b[0;34m==\u001b[0m \u001b[0;34m\"python\"\u001b[0m\u001b[0;34m:\u001b[0m\u001b[0;34m\u001b[0m\u001b[0;34m\u001b[0m\u001b[0m\n",
            "\u001b[0;32m/usr/local/lib/python3.6/dist-packages/pandas/io/parsers.py\u001b[0m in \u001b[0;36m__init__\u001b[0;34m(self, src, **kwds)\u001b[0m\n\u001b[1;32m   1915\u001b[0m         \u001b[0mkwds\u001b[0m\u001b[0;34m[\u001b[0m\u001b[0;34m\"usecols\"\u001b[0m\u001b[0;34m]\u001b[0m \u001b[0;34m=\u001b[0m \u001b[0mself\u001b[0m\u001b[0;34m.\u001b[0m\u001b[0musecols\u001b[0m\u001b[0;34m\u001b[0m\u001b[0;34m\u001b[0m\u001b[0m\n\u001b[1;32m   1916\u001b[0m \u001b[0;34m\u001b[0m\u001b[0m\n\u001b[0;32m-> 1917\u001b[0;31m         \u001b[0mself\u001b[0m\u001b[0;34m.\u001b[0m\u001b[0m_reader\u001b[0m \u001b[0;34m=\u001b[0m \u001b[0mparsers\u001b[0m\u001b[0;34m.\u001b[0m\u001b[0mTextReader\u001b[0m\u001b[0;34m(\u001b[0m\u001b[0msrc\u001b[0m\u001b[0;34m,\u001b[0m \u001b[0;34m**\u001b[0m\u001b[0mkwds\u001b[0m\u001b[0;34m)\u001b[0m\u001b[0;34m\u001b[0m\u001b[0;34m\u001b[0m\u001b[0m\n\u001b[0m\u001b[1;32m   1918\u001b[0m         \u001b[0mself\u001b[0m\u001b[0;34m.\u001b[0m\u001b[0munnamed_cols\u001b[0m \u001b[0;34m=\u001b[0m \u001b[0mself\u001b[0m\u001b[0;34m.\u001b[0m\u001b[0m_reader\u001b[0m\u001b[0;34m.\u001b[0m\u001b[0munnamed_cols\u001b[0m\u001b[0;34m\u001b[0m\u001b[0;34m\u001b[0m\u001b[0m\n\u001b[1;32m   1919\u001b[0m \u001b[0;34m\u001b[0m\u001b[0m\n",
            "\u001b[0;32mpandas/_libs/parsers.pyx\u001b[0m in \u001b[0;36mpandas._libs.parsers.TextReader.__cinit__\u001b[0;34m()\u001b[0m\n",
            "\u001b[0;32mpandas/_libs/parsers.pyx\u001b[0m in \u001b[0;36mpandas._libs.parsers.TextReader._setup_parser_source\u001b[0;34m()\u001b[0m\n",
            "\u001b[0;31mFileNotFoundError\u001b[0m: [Errno 2] File b'/content/Datos_Train80.csv' does not exist: b'/content/Datos_Train80.csv'"
          ]
        }
      ]
    },
    {
      "cell_type": "code",
      "metadata": {
        "id": "z0x5pUlgqQQA",
        "colab_type": "code",
        "outputId": "bb0b72e8-fe81-4cba-8d96-12da31c2fc3a",
        "colab": {
          "base_uri": "https://localhost:8080/",
          "height": 358
        }
      },
      "source": [
        "data_train = data_train[data_train['termicSensation_origin'].isna()==False]\n",
        "data_train = data_train.drop(columns='Unnamed: 0')\n",
        "data_val = data_val[data_val['termicSensation_origin'].isna()==False]\n",
        "data_val = data_val.drop(columns='Unnamed: 0')"
      ],
      "execution_count": 0,
      "outputs": [
        {
          "output_type": "error",
          "ename": "KeyError",
          "evalue": "ignored",
          "traceback": [
            "\u001b[0;31m---------------------------------------------------------------------------\u001b[0m",
            "\u001b[0;31mKeyError\u001b[0m                                  Traceback (most recent call last)",
            "\u001b[0;32m<ipython-input-52-45ca3455193d>\u001b[0m in \u001b[0;36m<module>\u001b[0;34m()\u001b[0m\n\u001b[1;32m      1\u001b[0m \u001b[0mdata_train\u001b[0m \u001b[0;34m=\u001b[0m \u001b[0mdata_train\u001b[0m\u001b[0;34m[\u001b[0m\u001b[0mdata_train\u001b[0m\u001b[0;34m[\u001b[0m\u001b[0;34m'termicSensation_origin'\u001b[0m\u001b[0;34m]\u001b[0m\u001b[0;34m.\u001b[0m\u001b[0misna\u001b[0m\u001b[0;34m(\u001b[0m\u001b[0;34m)\u001b[0m\u001b[0;34m==\u001b[0m\u001b[0;32mFalse\u001b[0m\u001b[0;34m]\u001b[0m\u001b[0;34m\u001b[0m\u001b[0;34m\u001b[0m\u001b[0m\n\u001b[0;32m----> 2\u001b[0;31m \u001b[0mdata_train\u001b[0m \u001b[0;34m=\u001b[0m \u001b[0mdata_train\u001b[0m\u001b[0;34m.\u001b[0m\u001b[0mdrop\u001b[0m\u001b[0;34m(\u001b[0m\u001b[0mcolumns\u001b[0m\u001b[0;34m=\u001b[0m\u001b[0;34m'Unnamed: 0'\u001b[0m\u001b[0;34m)\u001b[0m\u001b[0;34m\u001b[0m\u001b[0;34m\u001b[0m\u001b[0m\n\u001b[0m\u001b[1;32m      3\u001b[0m \u001b[0mdata_val\u001b[0m \u001b[0;34m=\u001b[0m \u001b[0mdata_val\u001b[0m\u001b[0;34m[\u001b[0m\u001b[0mdata_val\u001b[0m\u001b[0;34m[\u001b[0m\u001b[0;34m'termicSensation_origin'\u001b[0m\u001b[0;34m]\u001b[0m\u001b[0;34m.\u001b[0m\u001b[0misna\u001b[0m\u001b[0;34m(\u001b[0m\u001b[0;34m)\u001b[0m\u001b[0;34m==\u001b[0m\u001b[0;32mFalse\u001b[0m\u001b[0;34m]\u001b[0m\u001b[0;34m\u001b[0m\u001b[0;34m\u001b[0m\u001b[0m\n\u001b[1;32m      4\u001b[0m \u001b[0mdata_val\u001b[0m \u001b[0;34m=\u001b[0m \u001b[0mdata_val\u001b[0m\u001b[0;34m.\u001b[0m\u001b[0mdrop\u001b[0m\u001b[0;34m(\u001b[0m\u001b[0mcolumns\u001b[0m\u001b[0;34m=\u001b[0m\u001b[0;34m'Unnamed: 0'\u001b[0m\u001b[0;34m)\u001b[0m\u001b[0;34m\u001b[0m\u001b[0;34m\u001b[0m\u001b[0m\n",
            "\u001b[0;32m/usr/local/lib/python3.6/dist-packages/pandas/core/frame.py\u001b[0m in \u001b[0;36mdrop\u001b[0;34m(self, labels, axis, index, columns, level, inplace, errors)\u001b[0m\n\u001b[1;32m   4115\u001b[0m             \u001b[0mlevel\u001b[0m\u001b[0;34m=\u001b[0m\u001b[0mlevel\u001b[0m\u001b[0;34m,\u001b[0m\u001b[0;34m\u001b[0m\u001b[0;34m\u001b[0m\u001b[0m\n\u001b[1;32m   4116\u001b[0m             \u001b[0minplace\u001b[0m\u001b[0;34m=\u001b[0m\u001b[0minplace\u001b[0m\u001b[0;34m,\u001b[0m\u001b[0;34m\u001b[0m\u001b[0;34m\u001b[0m\u001b[0m\n\u001b[0;32m-> 4117\u001b[0;31m             \u001b[0merrors\u001b[0m\u001b[0;34m=\u001b[0m\u001b[0merrors\u001b[0m\u001b[0;34m,\u001b[0m\u001b[0;34m\u001b[0m\u001b[0;34m\u001b[0m\u001b[0m\n\u001b[0m\u001b[1;32m   4118\u001b[0m         )\n\u001b[1;32m   4119\u001b[0m \u001b[0;34m\u001b[0m\u001b[0m\n",
            "\u001b[0;32m/usr/local/lib/python3.6/dist-packages/pandas/core/generic.py\u001b[0m in \u001b[0;36mdrop\u001b[0;34m(self, labels, axis, index, columns, level, inplace, errors)\u001b[0m\n\u001b[1;32m   3912\u001b[0m         \u001b[0;32mfor\u001b[0m \u001b[0maxis\u001b[0m\u001b[0;34m,\u001b[0m \u001b[0mlabels\u001b[0m \u001b[0;32min\u001b[0m \u001b[0maxes\u001b[0m\u001b[0;34m.\u001b[0m\u001b[0mitems\u001b[0m\u001b[0;34m(\u001b[0m\u001b[0;34m)\u001b[0m\u001b[0;34m:\u001b[0m\u001b[0;34m\u001b[0m\u001b[0;34m\u001b[0m\u001b[0m\n\u001b[1;32m   3913\u001b[0m             \u001b[0;32mif\u001b[0m \u001b[0mlabels\u001b[0m \u001b[0;32mis\u001b[0m \u001b[0;32mnot\u001b[0m \u001b[0;32mNone\u001b[0m\u001b[0;34m:\u001b[0m\u001b[0;34m\u001b[0m\u001b[0;34m\u001b[0m\u001b[0m\n\u001b[0;32m-> 3914\u001b[0;31m                 \u001b[0mobj\u001b[0m \u001b[0;34m=\u001b[0m \u001b[0mobj\u001b[0m\u001b[0;34m.\u001b[0m\u001b[0m_drop_axis\u001b[0m\u001b[0;34m(\u001b[0m\u001b[0mlabels\u001b[0m\u001b[0;34m,\u001b[0m \u001b[0maxis\u001b[0m\u001b[0;34m,\u001b[0m \u001b[0mlevel\u001b[0m\u001b[0;34m=\u001b[0m\u001b[0mlevel\u001b[0m\u001b[0;34m,\u001b[0m \u001b[0merrors\u001b[0m\u001b[0;34m=\u001b[0m\u001b[0merrors\u001b[0m\u001b[0;34m)\u001b[0m\u001b[0;34m\u001b[0m\u001b[0;34m\u001b[0m\u001b[0m\n\u001b[0m\u001b[1;32m   3915\u001b[0m \u001b[0;34m\u001b[0m\u001b[0m\n\u001b[1;32m   3916\u001b[0m         \u001b[0;32mif\u001b[0m \u001b[0minplace\u001b[0m\u001b[0;34m:\u001b[0m\u001b[0;34m\u001b[0m\u001b[0;34m\u001b[0m\u001b[0m\n",
            "\u001b[0;32m/usr/local/lib/python3.6/dist-packages/pandas/core/generic.py\u001b[0m in \u001b[0;36m_drop_axis\u001b[0;34m(self, labels, axis, level, errors)\u001b[0m\n\u001b[1;32m   3944\u001b[0m                 \u001b[0mnew_axis\u001b[0m \u001b[0;34m=\u001b[0m \u001b[0maxis\u001b[0m\u001b[0;34m.\u001b[0m\u001b[0mdrop\u001b[0m\u001b[0;34m(\u001b[0m\u001b[0mlabels\u001b[0m\u001b[0;34m,\u001b[0m \u001b[0mlevel\u001b[0m\u001b[0;34m=\u001b[0m\u001b[0mlevel\u001b[0m\u001b[0;34m,\u001b[0m \u001b[0merrors\u001b[0m\u001b[0;34m=\u001b[0m\u001b[0merrors\u001b[0m\u001b[0;34m)\u001b[0m\u001b[0;34m\u001b[0m\u001b[0;34m\u001b[0m\u001b[0m\n\u001b[1;32m   3945\u001b[0m             \u001b[0;32melse\u001b[0m\u001b[0;34m:\u001b[0m\u001b[0;34m\u001b[0m\u001b[0;34m\u001b[0m\u001b[0m\n\u001b[0;32m-> 3946\u001b[0;31m                 \u001b[0mnew_axis\u001b[0m \u001b[0;34m=\u001b[0m \u001b[0maxis\u001b[0m\u001b[0;34m.\u001b[0m\u001b[0mdrop\u001b[0m\u001b[0;34m(\u001b[0m\u001b[0mlabels\u001b[0m\u001b[0;34m,\u001b[0m \u001b[0merrors\u001b[0m\u001b[0;34m=\u001b[0m\u001b[0merrors\u001b[0m\u001b[0;34m)\u001b[0m\u001b[0;34m\u001b[0m\u001b[0;34m\u001b[0m\u001b[0m\n\u001b[0m\u001b[1;32m   3947\u001b[0m             \u001b[0mresult\u001b[0m \u001b[0;34m=\u001b[0m \u001b[0mself\u001b[0m\u001b[0;34m.\u001b[0m\u001b[0mreindex\u001b[0m\u001b[0;34m(\u001b[0m\u001b[0;34m**\u001b[0m\u001b[0;34m{\u001b[0m\u001b[0maxis_name\u001b[0m\u001b[0;34m:\u001b[0m \u001b[0mnew_axis\u001b[0m\u001b[0;34m}\u001b[0m\u001b[0;34m)\u001b[0m\u001b[0;34m\u001b[0m\u001b[0;34m\u001b[0m\u001b[0m\n\u001b[1;32m   3948\u001b[0m \u001b[0;34m\u001b[0m\u001b[0m\n",
            "\u001b[0;32m/usr/local/lib/python3.6/dist-packages/pandas/core/indexes/base.py\u001b[0m in \u001b[0;36mdrop\u001b[0;34m(self, labels, errors)\u001b[0m\n\u001b[1;32m   5338\u001b[0m         \u001b[0;32mif\u001b[0m \u001b[0mmask\u001b[0m\u001b[0;34m.\u001b[0m\u001b[0many\u001b[0m\u001b[0;34m(\u001b[0m\u001b[0;34m)\u001b[0m\u001b[0;34m:\u001b[0m\u001b[0;34m\u001b[0m\u001b[0;34m\u001b[0m\u001b[0m\n\u001b[1;32m   5339\u001b[0m             \u001b[0;32mif\u001b[0m \u001b[0merrors\u001b[0m \u001b[0;34m!=\u001b[0m \u001b[0;34m\"ignore\"\u001b[0m\u001b[0;34m:\u001b[0m\u001b[0;34m\u001b[0m\u001b[0;34m\u001b[0m\u001b[0m\n\u001b[0;32m-> 5340\u001b[0;31m                 \u001b[0;32mraise\u001b[0m \u001b[0mKeyError\u001b[0m\u001b[0;34m(\u001b[0m\u001b[0;34m\"{} not found in axis\"\u001b[0m\u001b[0;34m.\u001b[0m\u001b[0mformat\u001b[0m\u001b[0;34m(\u001b[0m\u001b[0mlabels\u001b[0m\u001b[0;34m[\u001b[0m\u001b[0mmask\u001b[0m\u001b[0;34m]\u001b[0m\u001b[0;34m)\u001b[0m\u001b[0;34m)\u001b[0m\u001b[0;34m\u001b[0m\u001b[0;34m\u001b[0m\u001b[0m\n\u001b[0m\u001b[1;32m   5341\u001b[0m             \u001b[0mindexer\u001b[0m \u001b[0;34m=\u001b[0m \u001b[0mindexer\u001b[0m\u001b[0;34m[\u001b[0m\u001b[0;34m~\u001b[0m\u001b[0mmask\u001b[0m\u001b[0;34m]\u001b[0m\u001b[0;34m\u001b[0m\u001b[0;34m\u001b[0m\u001b[0m\n\u001b[1;32m   5342\u001b[0m         \u001b[0;32mreturn\u001b[0m \u001b[0mself\u001b[0m\u001b[0;34m.\u001b[0m\u001b[0mdelete\u001b[0m\u001b[0;34m(\u001b[0m\u001b[0mindexer\u001b[0m\u001b[0;34m)\u001b[0m\u001b[0;34m\u001b[0m\u001b[0;34m\u001b[0m\u001b[0m\n",
            "\u001b[0;31mKeyError\u001b[0m: \"['Unnamed: 0'] not found in axis\""
          ]
        }
      ]
    },
    {
      "cell_type": "code",
      "metadata": {
        "id": "CgvrYgYeqRn1",
        "colab_type": "code",
        "outputId": "80900221-c065-4004-d700-2670b12782dd",
        "colab": {
          "base_uri": "https://localhost:8080/",
          "height": 439
        }
      },
      "source": [
        "data_train"
      ],
      "execution_count": 0,
      "outputs": [
        {
          "output_type": "execute_result",
          "data": {
            "text/html": [
              "<div>\n",
              "<style scoped>\n",
              "    .dataframe tbody tr th:only-of-type {\n",
              "        vertical-align: middle;\n",
              "    }\n",
              "\n",
              "    .dataframe tbody tr th {\n",
              "        vertical-align: top;\n",
              "    }\n",
              "\n",
              "    .dataframe thead th {\n",
              "        text-align: right;\n",
              "    }\n",
              "</style>\n",
              "<table border=\"1\" class=\"dataframe\">\n",
              "  <thead>\n",
              "    <tr style=\"text-align: right;\">\n",
              "      <th></th>\n",
              "      <th>hour</th>\n",
              "      <th>termicSensation_origin</th>\n",
              "      <th>termicSensation_destination</th>\n",
              "      <th>transport_mode</th>\n",
              "      <th>distance</th>\n",
              "      <th>price</th>\n",
              "      <th>eta</th>\n",
              "      <th>min_distance</th>\n",
              "      <th>min_price</th>\n",
              "      <th>min_eta</th>\n",
              "      <th>weekday_number</th>\n",
              "      <th>hora_punta</th>\n",
              "      <th>llovizna</th>\n",
              "      <th>binaryTarget</th>\n",
              "    </tr>\n",
              "  </thead>\n",
              "  <tbody>\n",
              "    <tr>\n",
              "      <th>0</th>\n",
              "      <td>17</td>\n",
              "      <td>49.65</td>\n",
              "      <td>49.65</td>\n",
              "      <td>6</td>\n",
              "      <td>6158</td>\n",
              "      <td>0</td>\n",
              "      <td>1857</td>\n",
              "      <td>5736</td>\n",
              "      <td>0</td>\n",
              "      <td>1454</td>\n",
              "      <td>0</td>\n",
              "      <td>1</td>\n",
              "      <td>0</td>\n",
              "      <td>0</td>\n",
              "    </tr>\n",
              "    <tr>\n",
              "      <th>1</th>\n",
              "      <td>15</td>\n",
              "      <td>58.75</td>\n",
              "      <td>58.92</td>\n",
              "      <td>1</td>\n",
              "      <td>6644</td>\n",
              "      <td>200</td>\n",
              "      <td>2988</td>\n",
              "      <td>6404</td>\n",
              "      <td>0</td>\n",
              "      <td>1362</td>\n",
              "      <td>0</td>\n",
              "      <td>0</td>\n",
              "      <td>0</td>\n",
              "      <td>1</td>\n",
              "    </tr>\n",
              "    <tr>\n",
              "      <th>2</th>\n",
              "      <td>15</td>\n",
              "      <td>58.75</td>\n",
              "      <td>58.92</td>\n",
              "      <td>3</td>\n",
              "      <td>6663</td>\n",
              "      <td>0</td>\n",
              "      <td>1362</td>\n",
              "      <td>6404</td>\n",
              "      <td>0</td>\n",
              "      <td>1362</td>\n",
              "      <td>0</td>\n",
              "      <td>0</td>\n",
              "      <td>0</td>\n",
              "      <td>0</td>\n",
              "    </tr>\n",
              "    <tr>\n",
              "      <th>3</th>\n",
              "      <td>12</td>\n",
              "      <td>53.62</td>\n",
              "      <td>53.54</td>\n",
              "      <td>1</td>\n",
              "      <td>9842</td>\n",
              "      <td>200</td>\n",
              "      <td>3037</td>\n",
              "      <td>6614</td>\n",
              "      <td>0</td>\n",
              "      <td>877</td>\n",
              "      <td>0</td>\n",
              "      <td>0</td>\n",
              "      <td>0</td>\n",
              "      <td>0</td>\n",
              "    </tr>\n",
              "    <tr>\n",
              "      <th>4</th>\n",
              "      <td>12</td>\n",
              "      <td>53.62</td>\n",
              "      <td>53.54</td>\n",
              "      <td>3</td>\n",
              "      <td>8496</td>\n",
              "      <td>0</td>\n",
              "      <td>877</td>\n",
              "      <td>6614</td>\n",
              "      <td>0</td>\n",
              "      <td>877</td>\n",
              "      <td>0</td>\n",
              "      <td>0</td>\n",
              "      <td>0</td>\n",
              "      <td>1</td>\n",
              "    </tr>\n",
              "    <tr>\n",
              "      <th>...</th>\n",
              "      <td>...</td>\n",
              "      <td>...</td>\n",
              "      <td>...</td>\n",
              "      <td>...</td>\n",
              "      <td>...</td>\n",
              "      <td>...</td>\n",
              "      <td>...</td>\n",
              "      <td>...</td>\n",
              "      <td>...</td>\n",
              "      <td>...</td>\n",
              "      <td>...</td>\n",
              "      <td>...</td>\n",
              "      <td>...</td>\n",
              "      <td>...</td>\n",
              "    </tr>\n",
              "    <tr>\n",
              "      <th>278525</th>\n",
              "      <td>7</td>\n",
              "      <td>31.81</td>\n",
              "      <td>31.69</td>\n",
              "      <td>7</td>\n",
              "      <td>11481</td>\n",
              "      <td>600</td>\n",
              "      <td>3214</td>\n",
              "      <td>9876</td>\n",
              "      <td>0</td>\n",
              "      <td>2330</td>\n",
              "      <td>0</td>\n",
              "      <td>1</td>\n",
              "      <td>0</td>\n",
              "      <td>0</td>\n",
              "    </tr>\n",
              "    <tr>\n",
              "      <th>278526</th>\n",
              "      <td>7</td>\n",
              "      <td>31.81</td>\n",
              "      <td>31.69</td>\n",
              "      <td>9</td>\n",
              "      <td>11307</td>\n",
              "      <td>400</td>\n",
              "      <td>2330</td>\n",
              "      <td>9876</td>\n",
              "      <td>0</td>\n",
              "      <td>2330</td>\n",
              "      <td>0</td>\n",
              "      <td>1</td>\n",
              "      <td>0</td>\n",
              "      <td>0</td>\n",
              "    </tr>\n",
              "    <tr>\n",
              "      <th>278527</th>\n",
              "      <td>16</td>\n",
              "      <td>56.86</td>\n",
              "      <td>56.95</td>\n",
              "      <td>1</td>\n",
              "      <td>3151</td>\n",
              "      <td>2000</td>\n",
              "      <td>2109</td>\n",
              "      <td>2899</td>\n",
              "      <td>0</td>\n",
              "      <td>875</td>\n",
              "      <td>0</td>\n",
              "      <td>0</td>\n",
              "      <td>0</td>\n",
              "      <td>1</td>\n",
              "    </tr>\n",
              "    <tr>\n",
              "      <th>278528</th>\n",
              "      <td>16</td>\n",
              "      <td>56.86</td>\n",
              "      <td>56.95</td>\n",
              "      <td>3</td>\n",
              "      <td>3808</td>\n",
              "      <td>0</td>\n",
              "      <td>997</td>\n",
              "      <td>2899</td>\n",
              "      <td>0</td>\n",
              "      <td>875</td>\n",
              "      <td>0</td>\n",
              "      <td>0</td>\n",
              "      <td>0</td>\n",
              "      <td>0</td>\n",
              "    </tr>\n",
              "    <tr>\n",
              "      <th>278529</th>\n",
              "      <td>16</td>\n",
              "      <td>56.86</td>\n",
              "      <td>56.95</td>\n",
              "      <td>6</td>\n",
              "      <td>2899</td>\n",
              "      <td>0</td>\n",
              "      <td>875</td>\n",
              "      <td>2899</td>\n",
              "      <td>0</td>\n",
              "      <td>875</td>\n",
              "      <td>0</td>\n",
              "      <td>0</td>\n",
              "      <td>0</td>\n",
              "      <td>0</td>\n",
              "    </tr>\n",
              "  </tbody>\n",
              "</table>\n",
              "<p>278530 rows × 14 columns</p>\n",
              "</div>"
            ],
            "text/plain": [
              "        hour  termicSensation_origin  ...  llovizna  binaryTarget\n",
              "0         17                   49.65  ...         0             0\n",
              "1         15                   58.75  ...         0             1\n",
              "2         15                   58.75  ...         0             0\n",
              "3         12                   53.62  ...         0             0\n",
              "4         12                   53.62  ...         0             1\n",
              "...      ...                     ...  ...       ...           ...\n",
              "278525     7                   31.81  ...         0             0\n",
              "278526     7                   31.81  ...         0             0\n",
              "278527    16                   56.86  ...         0             1\n",
              "278528    16                   56.86  ...         0             0\n",
              "278529    16                   56.86  ...         0             0\n",
              "\n",
              "[278530 rows x 14 columns]"
            ]
          },
          "metadata": {
            "tags": []
          },
          "execution_count": 4
        }
      ]
    },
    {
      "cell_type": "code",
      "metadata": {
        "id": "-p4JV01UqT8k",
        "colab_type": "code",
        "outputId": "b9ff4dc8-b1e1-4fcb-fbb3-8dafb8c311d2",
        "colab": {
          "base_uri": "https://localhost:8080/",
          "height": 162
        }
      },
      "source": [
        "data_train.groupby('binaryTarget').count()"
      ],
      "execution_count": 0,
      "outputs": [
        {
          "output_type": "execute_result",
          "data": {
            "text/html": [
              "<div>\n",
              "<style scoped>\n",
              "    .dataframe tbody tr th:only-of-type {\n",
              "        vertical-align: middle;\n",
              "    }\n",
              "\n",
              "    .dataframe tbody tr th {\n",
              "        vertical-align: top;\n",
              "    }\n",
              "\n",
              "    .dataframe thead th {\n",
              "        text-align: right;\n",
              "    }\n",
              "</style>\n",
              "<table border=\"1\" class=\"dataframe\">\n",
              "  <thead>\n",
              "    <tr style=\"text-align: right;\">\n",
              "      <th></th>\n",
              "      <th>hour</th>\n",
              "      <th>termicSensation_origin</th>\n",
              "      <th>termicSensation_destination</th>\n",
              "      <th>transport_mode</th>\n",
              "      <th>distance</th>\n",
              "      <th>price</th>\n",
              "      <th>eta</th>\n",
              "      <th>min_distance</th>\n",
              "      <th>min_price</th>\n",
              "      <th>min_eta</th>\n",
              "      <th>weekday_number</th>\n",
              "      <th>hora_punta</th>\n",
              "      <th>llovizna</th>\n",
              "    </tr>\n",
              "    <tr>\n",
              "      <th>binaryTarget</th>\n",
              "      <th></th>\n",
              "      <th></th>\n",
              "      <th></th>\n",
              "      <th></th>\n",
              "      <th></th>\n",
              "      <th></th>\n",
              "      <th></th>\n",
              "      <th></th>\n",
              "      <th></th>\n",
              "      <th></th>\n",
              "      <th></th>\n",
              "      <th></th>\n",
              "      <th></th>\n",
              "    </tr>\n",
              "  </thead>\n",
              "  <tbody>\n",
              "    <tr>\n",
              "      <th>0</th>\n",
              "      <td>219407</td>\n",
              "      <td>219407</td>\n",
              "      <td>219407</td>\n",
              "      <td>219407</td>\n",
              "      <td>219407</td>\n",
              "      <td>219407</td>\n",
              "      <td>219407</td>\n",
              "      <td>219407</td>\n",
              "      <td>219407</td>\n",
              "      <td>219407</td>\n",
              "      <td>219407</td>\n",
              "      <td>219407</td>\n",
              "      <td>219407</td>\n",
              "    </tr>\n",
              "    <tr>\n",
              "      <th>1</th>\n",
              "      <td>59123</td>\n",
              "      <td>59123</td>\n",
              "      <td>59123</td>\n",
              "      <td>59123</td>\n",
              "      <td>59123</td>\n",
              "      <td>59123</td>\n",
              "      <td>59123</td>\n",
              "      <td>59123</td>\n",
              "      <td>59123</td>\n",
              "      <td>59123</td>\n",
              "      <td>59123</td>\n",
              "      <td>59123</td>\n",
              "      <td>59123</td>\n",
              "    </tr>\n",
              "  </tbody>\n",
              "</table>\n",
              "</div>"
            ],
            "text/plain": [
              "                hour  termicSensation_origin  ...  hora_punta  llovizna\n",
              "binaryTarget                                  ...                      \n",
              "0             219407                  219407  ...      219407    219407\n",
              "1              59123                   59123  ...       59123     59123\n",
              "\n",
              "[2 rows x 13 columns]"
            ]
          },
          "metadata": {
            "tags": []
          },
          "execution_count": 6
        }
      ]
    },
    {
      "cell_type": "code",
      "metadata": {
        "id": "_tH1bgxgra1S",
        "colab_type": "code",
        "outputId": "9e1cd7cc-fbe8-46dd-ca74-231134fd163c",
        "colab": {
          "base_uri": "https://localhost:8080/",
          "height": 162
        }
      },
      "source": [
        "data_val.groupby('binaryTarget').count()"
      ],
      "execution_count": 0,
      "outputs": [
        {
          "output_type": "execute_result",
          "data": {
            "text/html": [
              "<div>\n",
              "<style scoped>\n",
              "    .dataframe tbody tr th:only-of-type {\n",
              "        vertical-align: middle;\n",
              "    }\n",
              "\n",
              "    .dataframe tbody tr th {\n",
              "        vertical-align: top;\n",
              "    }\n",
              "\n",
              "    .dataframe thead th {\n",
              "        text-align: right;\n",
              "    }\n",
              "</style>\n",
              "<table border=\"1\" class=\"dataframe\">\n",
              "  <thead>\n",
              "    <tr style=\"text-align: right;\">\n",
              "      <th></th>\n",
              "      <th>hour</th>\n",
              "      <th>termicSensation_origin</th>\n",
              "      <th>termicSensation_destination</th>\n",
              "      <th>transport_mode</th>\n",
              "      <th>distance</th>\n",
              "      <th>price</th>\n",
              "      <th>eta</th>\n",
              "      <th>min_distance</th>\n",
              "      <th>min_price</th>\n",
              "      <th>min_eta</th>\n",
              "      <th>weekday_number</th>\n",
              "      <th>hora_punta</th>\n",
              "      <th>llovizna</th>\n",
              "    </tr>\n",
              "    <tr>\n",
              "      <th>binaryTarget</th>\n",
              "      <th></th>\n",
              "      <th></th>\n",
              "      <th></th>\n",
              "      <th></th>\n",
              "      <th></th>\n",
              "      <th></th>\n",
              "      <th></th>\n",
              "      <th></th>\n",
              "      <th></th>\n",
              "      <th></th>\n",
              "      <th></th>\n",
              "      <th></th>\n",
              "      <th></th>\n",
              "    </tr>\n",
              "  </thead>\n",
              "  <tbody>\n",
              "    <tr>\n",
              "      <th>0</th>\n",
              "      <td>54679</td>\n",
              "      <td>54679</td>\n",
              "      <td>54679</td>\n",
              "      <td>54679</td>\n",
              "      <td>54679</td>\n",
              "      <td>54679</td>\n",
              "      <td>54679</td>\n",
              "      <td>54679</td>\n",
              "      <td>54679</td>\n",
              "      <td>54679</td>\n",
              "      <td>54679</td>\n",
              "      <td>54679</td>\n",
              "      <td>54679</td>\n",
              "    </tr>\n",
              "    <tr>\n",
              "      <th>1</th>\n",
              "      <td>15009</td>\n",
              "      <td>15009</td>\n",
              "      <td>15009</td>\n",
              "      <td>15009</td>\n",
              "      <td>15009</td>\n",
              "      <td>15009</td>\n",
              "      <td>15009</td>\n",
              "      <td>15009</td>\n",
              "      <td>15009</td>\n",
              "      <td>15009</td>\n",
              "      <td>15009</td>\n",
              "      <td>15009</td>\n",
              "      <td>15009</td>\n",
              "    </tr>\n",
              "  </tbody>\n",
              "</table>\n",
              "</div>"
            ],
            "text/plain": [
              "               hour  termicSensation_origin  ...  hora_punta  llovizna\n",
              "binaryTarget                                 ...                      \n",
              "0             54679                   54679  ...       54679     54679\n",
              "1             15009                   15009  ...       15009     15009\n",
              "\n",
              "[2 rows x 13 columns]"
            ]
          },
          "metadata": {
            "tags": []
          },
          "execution_count": 7
        }
      ]
    },
    {
      "cell_type": "code",
      "metadata": {
        "id": "QS4z66v4rkEb",
        "colab_type": "code",
        "outputId": "6202da36-cb03-415b-a4eb-1b6ed39b31d1",
        "colab": {
          "base_uri": "https://localhost:8080/",
          "height": 85
        }
      },
      "source": [
        "print('\\nProporción de 1s en train: %.2f'%(59123/(219407+59123) * 100))\n",
        "print('\\nProporción de 1s en validation: %.2f'%(15009/(54679+15009)*100))"
      ],
      "execution_count": 0,
      "outputs": [
        {
          "output_type": "stream",
          "text": [
            "\n",
            "Proporción de 1s en train: 21.23\n",
            "\n",
            "Proporción de 1s en validation: 21.54\n"
          ],
          "name": "stdout"
        }
      ]
    },
    {
      "cell_type": "code",
      "metadata": {
        "id": "pTtxPhDFr2CA",
        "colab_type": "code",
        "outputId": "b1c292e7-a5f7-4f6c-85f5-d4cc7389217e",
        "colab": {
          "base_uri": "https://localhost:8080/",
          "height": 281
        }
      },
      "source": [
        "data_train.drop(['binaryTarget'],1).hist()\n",
        "plt.show()"
      ],
      "execution_count": 0,
      "outputs": [
        {
          "output_type": "display_data",
          "data": {
            "image/png": "[encoded data removed]",
            "text/plain": [
              "<Figure size 432x288 with 16 Axes>"
            ]
          },
          "metadata": {
            "tags": []
          }
        }
      ]
    },
    {
      "cell_type": "code",
      "metadata": {
        "id": "dVY_okMz2mdP",
        "colab_type": "code",
        "outputId": "0beb0d69-eab3-46cf-d0bf-2e2a1aac0de4",
        "colab": {
          "base_uri": "https://localhost:8080/",
          "height": 34
        }
      },
      "source": [
        "var_exp_train = np.array(data_train.drop(['binaryTarget'],1))\n",
        "target_train = np.array(data_train['binaryTarget'])\n",
        "var_exp_train.shape"
      ],
      "execution_count": 0,
      "outputs": [
        {
          "output_type": "execute_result",
          "data": {
            "text/plain": [
              "(278530, 13)"
            ]
          },
          "metadata": {
            "tags": []
          },
          "execution_count": 25
        }
      ]
    },
    {
      "cell_type": "markdown",
      "metadata": {
        "id": "DFG4jePn39pr",
        "colab_type": "text"
      },
      "source": [
        "# Modelo"
      ]
    },
    {
      "cell_type": "markdown",
      "metadata": {
        "id": "QQTQmOX44QKe",
        "colab_type": "text"
      },
      "source": [
        "Compilamos el modelo."
      ]
    },
    {
      "cell_type": "code",
      "metadata": {
        "id": "A1t39mC83y-m",
        "colab_type": "code",
        "outputId": "be6fb3b5-6f3c-4664-a0fe-f8a9468ea148",
        "colab": {
          "base_uri": "https://localhost:8080/",
          "height": 258
        }
      },
      "source": [
        "model = linear_model.LogisticRegression()\n",
        "model.fit(train_exp,train_target)"
      ],
      "execution_count": 0,
      "outputs": [
        {
          "output_type": "stream",
          "text": [
            "/usr/local/lib/python3.6/dist-packages/sklearn/linear_model/_logistic.py:940: ConvergenceWarning: lbfgs failed to converge (status=1):\n",
            "STOP: TOTAL NO. of ITERATIONS REACHED LIMIT.\n",
            "\n",
            "Increase the number of iterations (max_iter) or scale the data as shown in:\n",
            "    https://scikit-learn.org/stable/modules/preprocessing.html\n",
            "Please also refer to the documentation for alternative solver options:\n",
            "    https://scikit-learn.org/stable/modules/linear_model.html#logistic-regression\n",
            "  extra_warning_msg=_LOGISTIC_SOLVER_CONVERGENCE_MSG)\n"
          ],
          "name": "stderr"
        },
        {
          "output_type": "execute_result",
          "data": {
            "text/plain": [
              "LogisticRegression(C=1.0, class_weight=None, dual=False, fit_intercept=True,\n",
              "                   intercept_scaling=1, l1_ratio=None, max_iter=100,\n",
              "                   multi_class='auto', n_jobs=None, penalty='l2',\n",
              "                   random_state=None, solver='lbfgs', tol=0.0001, verbose=0,\n",
              "                   warm_start=False)"
            ]
          },
          "metadata": {
            "tags": []
          },
          "execution_count": 41
        }
      ]
    },
    {
      "cell_type": "code",
      "metadata": {
        "id": "vqr1CZOnuqC1",
        "colab_type": "code",
        "outputId": "8cf9e049-b800-4959-e52d-f9e261cb0870",
        "colab": {
          "base_uri": "https://localhost:8080/",
          "height": 102
        }
      },
      "source": [
        "model.get_params"
      ],
      "execution_count": 0,
      "outputs": [
        {
          "output_type": "execute_result",
          "data": {
            "text/plain": [
              "<bound method BaseEstimator.get_params of LogisticRegression(C=1.0, class_weight=None, dual=False, fit_intercept=True,\n",
              "                   intercept_scaling=1, l1_ratio=None, max_iter=100,\n",
              "                   multi_class='auto', n_jobs=None, penalty='l2',\n",
              "                   random_state=None, solver='lbfgs', tol=0.0001, verbose=0,\n",
              "                   warm_start=False)>"
            ]
          },
          "metadata": {
            "tags": []
          },
          "execution_count": 50
        }
      ]
    },
    {
      "cell_type": "markdown",
      "metadata": {
        "id": "62svRxAb4SKv",
        "colab_type": "text"
      },
      "source": [
        "Evaluamos nuestro modelo."
      ]
    },
    {
      "cell_type": "code",
      "metadata": {
        "id": "UmPdNbyH4J0A",
        "colab_type": "code",
        "outputId": "66a5a688-80af-4d20-dac9-11b7a23d5c3d",
        "colab": {
          "base_uri": "https://localhost:8080/",
          "height": 51
        }
      },
      "source": [
        "predictions = model.predict(val_exp)\n",
        "print(predictions[0:50])"
      ],
      "execution_count": 0,
      "outputs": [
        {
          "output_type": "stream",
          "text": [
            "[0 0 0 0 0 0 0 0 0 0 0 0 0 0 0 0 0 0 0 0 1 0 0 0 0 0 0 0 0 0 0 0 0 0 0 0 0\n",
            " 0 0 0 0 0 0 0 0 0 0 0 0 0]\n"
          ],
          "name": "stdout"
        }
      ]
    },
    {
      "cell_type": "code",
      "metadata": {
        "id": "e7z1m9MQ4zx0",
        "colab_type": "code",
        "outputId": "2a62a835-0110-4ccf-ea19-d10e418d51bf",
        "colab": {
          "base_uri": "https://localhost:8080/",
          "height": 34
        }
      },
      "source": [
        "accuracy_score(predictions,target_val)"
      ],
      "execution_count": 0,
      "outputs": [
        {
          "output_type": "execute_result",
          "data": {
            "text/plain": [
              "0.7861583746141144"
            ]
          },
          "metadata": {
            "tags": []
          },
          "execution_count": 44
        }
      ]
    },
    {
      "cell_type": "code",
      "metadata": {
        "id": "sAw6fFck5B0K",
        "colab_type": "code",
        "outputId": "6de12871-64e1-431c-9e88-c6a59b05237e",
        "colab": {
          "base_uri": "https://localhost:8080/",
          "height": 51
        }
      },
      "source": [
        "print(confusion_matrix(predictions,target_val))"
      ],
      "execution_count": 0,
      "outputs": [
        {
          "output_type": "stream",
          "text": [
            "[[54534 14637]\n",
            " [  256   218]]\n"
          ],
          "name": "stdout"
        }
      ]
    },
    {
      "cell_type": "code",
      "metadata": {
        "id": "JQf9ZdIA5D-e",
        "colab_type": "code",
        "outputId": "332fa267-200b-4e89-89fa-e8794bdf1914",
        "colab": {
          "base_uri": "https://localhost:8080/",
          "height": 170
        }
      },
      "source": [
        "print(classification_report(predictions,target_val))"
      ],
      "execution_count": 0,
      "outputs": [
        {
          "output_type": "stream",
          "text": [
            "              precision    recall  f1-score   support\n",
            "\n",
            "           0       1.00      0.79      0.88     69171\n",
            "           1       0.01      0.46      0.03       474\n",
            "\n",
            "    accuracy                           0.79     69645\n",
            "   macro avg       0.51      0.62      0.45     69645\n",
            "weighted avg       0.99      0.79      0.87     69645\n",
            "\n"
          ],
          "name": "stdout"
        }
      ]
    },
    {
      "cell_type": "code",
      "metadata": {
        "id": "AoUYK64s7s2z",
        "colab_type": "code",
        "colab": {}
      },
      "source": [
        ""
      ],
      "execution_count": 0,
      "outputs": []
    }
  ]
}